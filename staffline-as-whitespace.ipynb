{
 "cells": [
  {
   "cell_type": "code",
   "execution_count": 2,
   "id": "d10fe97e",
   "metadata": {},
   "outputs": [],
   "source": [
    "import os\n",
    "from pathlib import Path\n",
    "import re\n",
    "from PIL import Image\n",
    "import numpy as np\n",
    "from tqdm import tqdm"
   ]
  },
  {
   "cell_type": "code",
   "execution_count": 3,
   "id": "965e68bc",
   "metadata": {},
   "outputs": [],
   "source": [
    "TXT_DIR = Path('/home/macosta/ttmp/primus-data/leipzig-filtered/leipzig-txt/')\n",
    "SAVE_DIR = Path('/home/macosta/ttmp/primus-data/leipzig-filtered/leipzig-delim-7/')\n",
    "SAVE_DIR.mkdir(exist_ok=True)"
   ]
  },
  {
   "cell_type": "code",
   "execution_count": 82,
   "id": "70b5e6c0",
   "metadata": {},
   "outputs": [],
   "source": [
    "STAFFLINE_A = \"0000000000000000000000000000000000000000000000000011100000000000000011100000000000000011100000000000000011100000000000000011100000000000000000000000000000000000000000000000000\"\n",
    "STAFFLINE_B = \"0000000000000000000000000000000000000000000000000001000000000000000001000000000000000001000000000000000001000000000000000001000000000000000000000000000000000000000000000000000\"\n",
    "STAFFLINE_PATTERN = re.compile(f\"(({STAFFLINE_A}|{STAFFLINE_B}) )+\")"
   ]
  },
  {
   "cell_type": "code",
   "execution_count": 88,
   "id": "69721a71",
   "metadata": {},
   "outputs": [],
   "source": [
    "def save_whitespaced(from_dir, to_dir, debug=False):\n",
    "    for file in tqdm(os.listdir(from_dir)):\n",
    "        if file[-4:] != '.txt':\n",
    "            continue\n",
    "        with open(TXT_DIR / file, \"r\") as f:\n",
    "            text = f.read()\n",
    "        if text[-1] != ' ':\n",
    "            text += ' '\n",
    "        abridged = STAFFLINE_PATTERN.sub(\"x\", text).strip()\n",
    "        abridged = re.sub(' x', 'x', abridged)\n",
    "        abridged = re.sub(' +', '_', abridged)\n",
    "        final = re.sub('x', ' ', abridged)\n",
    "        final_tokens = final.split()\n",
    "#         print(final_tokens)\n",
    "#         raise Exception()\n",
    "        for token in final_tokens:\n",
    "            assert token and token[0] != '_' and token[-1] != '_', f\"Token: {token}\" and token != STAFFLINE_A and token != STAFFLINE_B\n",
    "        if debug:\n",
    "            for token in final_tokens:\n",
    "                cols = token.split('_')\n",
    "                arr = np.zeros((len(cols), 175), dtype=np.uint8)\n",
    "                for i, col in enumerate(cols):\n",
    "                    arr[i] = [(1-int(x)) for x in col]\n",
    "                Image.fromarray(arr.T * 255).show()\n",
    "            return\n",
    "        savename = to_dir / file\n",
    "        with open(savename, \"w\") as f:\n",
    "            f.write(final)"
   ]
  },
  {
   "cell_type": "code",
   "execution_count": 90,
   "id": "7700ac71",
   "metadata": {
    "scrolled": true
   },
   "outputs": [
    {
     "name": "stderr",
     "output_type": "stream",
     "text": [
      "100%|██████████████████████████████████████████████████████████████████████████████████████████████████| 29155/29155 [10:52<00:00, 44.68it/s]\n"
     ]
    }
   ],
   "source": [
    "save_whitespaced(TXT_DIR, SAVE_DIR, debug=False)"
   ]
  }
 ],
 "metadata": {
  "kernelspec": {
   "display_name": "Python 3 (ipykernel)",
   "language": "python",
   "name": "python3"
  },
  "language_info": {
   "codemirror_mode": {
    "name": "ipython",
    "version": 3
   },
   "file_extension": ".py",
   "mimetype": "text/x-python",
   "name": "python",
   "nbconvert_exporter": "python",
   "pygments_lexer": "ipython3",
   "version": "3.7.11"
  }
 },
 "nbformat": 4,
 "nbformat_minor": 5
}
