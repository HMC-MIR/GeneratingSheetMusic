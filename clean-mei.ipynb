{
 "cells": [
  {
   "cell_type": "code",
   "execution_count": 70,
   "id": "184870af",
   "metadata": {},
   "outputs": [],
   "source": [
    "import os\n",
    "from pathlib import Path\n",
    "import re\n",
    "from tqdm import tqdm"
   ]
  },
  {
   "cell_type": "code",
   "execution_count": 62,
   "id": "f4376bd2",
   "metadata": {},
   "outputs": [],
   "source": [
    "MEI_PATH = Path('/home/macosta/ttmp/primus-data/primus-mei/mei/')\n",
    "MEI_CLEANED = Path('/home/macosta/ttmp/primus-data/primus-mei/mei-cleaned/')\n",
    "MEI_CLEANED.mkdir(exist_ok=True)\n",
    "import re"
   ]
  },
  {
   "cell_type": "code",
   "execution_count": 46,
   "id": "3b0b3ef3",
   "metadata": {},
   "outputs": [],
   "source": [
    "HEADER = '<?xml version=\"1.0\" encoding=\"UTF-8\"?> <?xml-model href=\"http://music-encoding.org/schema/4.0.0/mei-all.rng\" type=\"application/xml\" schematypens=\"http://relaxng.org/ns/structure/1.0\"?> <?xml-model href=\"http://music-encoding.org/schema/4.0.0/mei-all.rng\" type=\"application/xml\" schematypens=\"http://purl.oclc.org/dsdl/schematron\"?> <mei xmlns=\"http://www.music-encoding.org/ns/mei\" meiversion=\"4.0.0\"> <meiHead> <fileDesc> <titleStmt> <title /> </titleStmt> <pubStmt> <date>2017-08-29 23:54:28</date> </pubStmt> </fileDesc> <encodingDesc> <projectDesc> <p>Encoded with Verovio version 2.0.0-dev-cba6710</p>  </projectDesc> </encodingDesc> </meiHead>'\n",
    "FOOTER = '</mei>'"
   ]
  },
  {
   "cell_type": "code",
   "execution_count": 73,
   "id": "e7fe8db7",
   "metadata": {},
   "outputs": [
    {
     "name": "stderr",
     "output_type": "stream",
     "text": [
      "100%|███████████████████████████████████| 87679/87679 [00:49<00:00, 1784.27it/s]\n"
     ]
    }
   ],
   "source": [
    "for file in tqdm(os.listdir(MEI_PATH)):\n",
    "    with open(MEI_PATH / file, \"r\") as f:\n",
    "        text = f.read()\n",
    "    text = re.sub('(\\n|\\s)+', ' ', text)\n",
    "    # Remove header and footer\n",
    "    body = re.sub('<\\?xml.*?/meiHead>\\s?(.*)\\s?</mei>', r'\\1', text)\n",
    "    # Remove ids\n",
    "    noIds = re.sub('xml:id=\".*?\"', '', body)\n",
    "    # Introduce spaces\n",
    "    cleaned = re.sub('=', '= ', noIds)\n",
    "    cleaned = re.sub('(/?>)', r' \\1', cleaned)\n",
    "    cleaned = re.sub('\\s+', ' ', cleaned)\n",
    "    with open(MEI_CLEANED / file, 'w') as f:\n",
    "        f.write(cleaned)"
   ]
  },
  {
   "cell_type": "code",
   "execution_count": 77,
   "id": "6146a081",
   "metadata": {},
   "outputs": [],
   "source": [
    "exampled_cleaned = '<music > <body > <mdiv > <score > <scoreDef key.sig= \"2f\" meter.sym= \"cut\" > <staffGrp > <staffDef clef.shape= \"G\" clef.line= \"2\" n= \"1\" lines= \"5\" /> </staffGrp > </scoreDef > <section > <measure right= \"single\" > <staff n= \"1\" > <layer n= \"1\" > <rest dur= \"4\" /> <note dur= \"4\" oct= \"4\" pname= \"b\" /> <note dur= \"4\" oct= \"5\" pname= \"d\" /> <note dur= \"4\" oct= \"4\" pname= \"b\" /> </layer > </staff > </measure > <measure right= \"single\" > <staff n= \"1\" > <layer n= \"1\" > <rest dur= \"4\" /> <note dur= \"4\" oct= \"4\" pname= \"a\" /> <note dur= \"4\" oct= \"5\" pname= \"c\" /> <note dur= \"4\" oct= \"4\" pname= \"a\" /> </layer > </staff > </measure > <measure right= \"single\" > <staff n= \"1\" > <layer n= \"1\" > <rest dur= \"4\" /> <note dur= \"4\" oct= \"4\" pname= \"b\" /> <note dur= \"2\" oct= \"5\" pname= \"d\" /> </layer > </staff > </measure > <measure right= \"single\" > <staff n= \"1\" > <layer n= \"1\" > <note dur= \"2\" oct= \"4\" pname= \"b\" /> <note dur= \"2\" oct= \"4\" pname= \"b\" /> </layer > </staff > </measure > <measure right= \"invis\" > <staff n= \"1\" > <layer n= \"1\" > <note dur= \"2\" oct= \"4\" pname= \"a\" /> </layer > </staff > </measure > </section > </score > </mdiv > </body > </music >'"
   ]
  },
  {
   "cell_type": "code",
   "execution_count": 75,
   "id": "1d6c729c",
   "metadata": {},
   "outputs": [],
   "source": [
    "def unclean(mei):\n",
    "    mei = re.sub(' (/?>)', r'\\1', mei)\n",
    "    mei = re.sub('= ', '=', mei)\n",
    "    mei = HEADER + mei + FOOTER\n",
    "    return mei"
   ]
  },
  {
   "cell_type": "code",
   "execution_count": 78,
   "id": "276f11dc",
   "metadata": {},
   "outputs": [
    {
     "data": {
      "text/plain": [
       "'<?xml version=\"1.0\" encoding=\"UTF-8\"?> <?xml-model href=\"http://music-encoding.org/schema/4.0.0/mei-all.rng\" type=\"application/xml\" schematypens=\"http://relaxng.org/ns/structure/1.0\"?> <?xml-model href=\"http://music-encoding.org/schema/4.0.0/mei-all.rng\" type=\"application/xml\" schematypens=\"http://purl.oclc.org/dsdl/schematron\"?> <mei xmlns=\"http://www.music-encoding.org/ns/mei\" meiversion=\"4.0.0\"> <meiHead> <fileDesc> <titleStmt> <title /> </titleStmt> <pubStmt> <date>2017-08-29 23:54:28</date> </pubStmt> </fileDesc> <encodingDesc> <projectDesc> <p>Encoded with Verovio version 2.0.0-dev-cba6710</p>  </projectDesc> </encodingDesc> </meiHead><music> <body> <mdiv> <score> <scoreDef key.sig=\"2f\" meter.sym=\"cut\"> <staffGrp> <staffDef clef.shape=\"G\" clef.line=\"2\" n=\"1\" lines=\"5\"/> </staffGrp> </scoreDef> <section> <measure right=\"single\"> <staff n=\"1\"> <layer n=\"1\"> <rest dur=\"4\"/> <note dur=\"4\" oct=\"4\" pname=\"b\"/> <note dur=\"4\" oct=\"5\" pname=\"d\"/> <note dur=\"4\" oct=\"4\" pname=\"b\"/> </layer> </staff> </measure> <measure right=\"single\"> <staff n=\"1\"> <layer n=\"1\"> <rest dur=\"4\"/> <note dur=\"4\" oct=\"4\" pname=\"a\"/> <note dur=\"4\" oct=\"5\" pname=\"c\"/> <note dur=\"4\" oct=\"4\" pname=\"a\"/> </layer> </staff> </measure> <measure right=\"single\"> <staff n=\"1\"> <layer n=\"1\"> <rest dur=\"4\"/> <note dur=\"4\" oct=\"4\" pname=\"b\"/> <note dur=\"2\" oct=\"5\" pname=\"d\"/> </layer> </staff> </measure> <measure right=\"single\"> <staff n=\"1\"> <layer n=\"1\"> <note dur=\"2\" oct=\"4\" pname=\"b\"/> <note dur=\"2\" oct=\"4\" pname=\"b\"/> </layer> </staff> </measure> <measure right=\"invis\"> <staff n=\"1\"> <layer n=\"1\"> <note dur=\"2\" oct=\"4\" pname=\"a\"/> </layer> </staff> </measure> </section> </score> </mdiv> </body> </music></mei>'"
      ]
     },
     "execution_count": 78,
     "metadata": {},
     "output_type": "execute_result"
    }
   ],
   "source": [
    "unclean(exampled_cleaned)"
   ]
  }
 ],
 "metadata": {
  "kernelspec": {
   "display_name": "Python 3 (ipykernel)",
   "language": "python",
   "name": "python3"
  },
  "language_info": {
   "codemirror_mode": {
    "name": "ipython",
    "version": 3
   },
   "file_extension": ".py",
   "mimetype": "text/x-python",
   "name": "python",
   "nbconvert_exporter": "python",
   "pygments_lexer": "ipython3",
   "version": "3.7.11"
  }
 },
 "nbformat": 4,
 "nbformat_minor": 5
}
