{
 "cells": [
  {
   "cell_type": "code",
   "execution_count": 17,
   "id": "b15e9d5a",
   "metadata": {},
   "outputs": [],
   "source": [
    "from pathlib import Path\n",
    "import os\n",
    "from tqdm import tqdm\n",
    "from PIL import Image\n",
    "import numpy as np"
   ]
  },
  {
   "cell_type": "code",
   "execution_count": 116,
   "id": "91883f24",
   "metadata": {},
   "outputs": [],
   "source": [
    "PROCESSED_IMG_DIRECTORY_PATH = Path('/home/macosta/ttmp/primus-processed/')\n",
    "PRIMUS_DIR = Path('/home/macosta/ttmp/primus/')\n",
    "SAVE_CROPPED_DIR = Path('/home/macosta/ttmp/primus-cropped/')\n",
    "SAVE_TXT_DIR = Path('/home/macosta/ttmp/primus-cropped-txt/')"
   ]
  },
  {
   "cell_type": "code",
   "execution_count": 21,
   "id": "545ad82c",
   "metadata": {},
   "outputs": [],
   "source": [
    "HEIGHT = 95"
   ]
  },
  {
   "cell_type": "code",
   "execution_count": 56,
   "id": "feddcbc9",
   "metadata": {},
   "outputs": [],
   "source": [
    "def get_png_paths():\n",
    "    png_paths = []\n",
    "    for package in os.listdir(PRIMUS_DIR):\n",
    "        package_path = PRIMUS_DIR / package\n",
    "        for incipit_dir in os.listdir(package_path):\n",
    "            incipit_dir_path = package_path / incipit_dir\n",
    "            incipit_files = os.listdir(incipit_dir_path)\n",
    "            png_files = [f for f in incipit_files if f[-4:] == '.png' and f[0] != '.']\n",
    "            if not png_files:\n",
    "                continue\n",
    "            png_file = incipit_dir_path / png_files[0]\n",
    "            png_paths.append(str(png_file))\n",
    "    return png_paths"
   ]
  },
  {
   "cell_type": "code",
   "execution_count": 45,
   "id": "e6846869",
   "metadata": {
    "collapsed": true
   },
   "outputs": [
    {
     "name": "stderr",
     "output_type": "stream",
     "text": [
      "\r",
      "  0%|                                                 | 0/87678 [00:00<?, ?it/s]"
     ]
    },
    {
     "name": "stdout",
     "output_type": "stream",
     "text": [
      "Assertion error: There are 14 near-max-value rows\n",
      "/home/macosta/ttmp/primus-processed/211005835-1_1_2.png\n"
     ]
    },
    {
     "data": {
      "image/png": "[encoded data removed]",
      "text/plain": [
       "<PIL.PngImagePlugin.PngImageFile image mode=1 size=1341x95 at 0x7F5F305B7CD0>"
      ]
     },
     "metadata": {},
     "output_type": "display_data"
    },
    {
     "name": "stderr",
     "output_type": "stream",
     "text": [
      "\r",
      "  0%|                                     | 110/87678 [00:00<01:20, 1090.85it/s]"
     ]
    },
    {
     "name": "stdout",
     "output_type": "stream",
     "text": [
      "Assertion error: There are 14 near-max-value rows\n",
      "/home/macosta/ttmp/primus-processed/211004232-1_1_2.png\n"
     ]
    },
    {
     "data": {
      "image/png": "[encoded data removed]",
      "text/plain": [
       "<PIL.PngImagePlugin.PngImageFile image mode=1 size=860x95 at 0x7F5F30658B50>"
      ]
     },
     "metadata": {},
     "output_type": "display_data"
    },
    {
     "name": "stderr",
     "output_type": "stream",
     "text": [
      "  1%|▏                                    | 528/87678 [00:00<01:04, 1354.09it/s]"
     ]
    },
    {
     "name": "stdout",
     "output_type": "stream",
     "text": [
      "Assertion error: There are 14 near-max-value rows\n",
      "/home/macosta/ttmp/primus-processed/000107608-1_2_2.png\n"
     ]
    },
    {
     "data": {
      "image/png": "[encoded data removed]",
      "text/plain": [
       "<PIL.PngImagePlugin.PngImageFile image mode=1 size=898x95 at 0x7F5F30658D90>"
      ]
     },
     "metadata": {},
     "output_type": "display_data"
    },
    {
     "name": "stderr",
     "output_type": "stream",
     "text": [
      "  1%|▎                                    | 808/87678 [00:00<01:02, 1381.63it/s]"
     ]
    },
    {
     "name": "stdout",
     "output_type": "stream",
     "text": [
      "Assertion error: There are 14 near-max-value rows\n",
      "/home/macosta/ttmp/primus-processed/000127515-1_1_1.png\n"
     ]
    },
    {
     "data": {
      "image/png": "[encoded data removed]",
      "text/plain": [
       "<PIL.PngImagePlugin.PngImageFile image mode=1 size=1069x95 at 0x7F5F30850BD0>"
      ]
     },
     "metadata": {},
     "output_type": "display_data"
    },
    {
     "name": "stderr",
     "output_type": "stream",
     "text": [
      "\r",
      "  1%|▍                                    | 947/87678 [00:00<01:03, 1370.65it/s]"
     ]
    },
    {
     "name": "stdout",
     "output_type": "stream",
     "text": [
      "Assertion error: There are 14 near-max-value rows\n",
      "/home/macosta/ttmp/primus-processed/110003649-1_1_1.png\n"
     ]
    },
    {
     "data": {
      "image/png": "[encoded data removed]",
      "text/plain": [
       "<PIL.PngImagePlugin.PngImageFile image mode=1 size=1130x95 at 0x7F5F463277D0>"
      ]
     },
     "metadata": {},
     "output_type": "display_data"
    },
    {
     "name": "stderr",
     "output_type": "stream",
     "text": [
      "\r",
      "  1%|▍                                   | 1085/87678 [00:00<01:03, 1362.31it/s]"
     ]
    },
    {
     "name": "stdout",
     "output_type": "stream",
     "text": [
      "Assertion error: There are 14 near-max-value rows\n",
      "/home/macosta/ttmp/primus-processed/000130957-1_1_2.png\n"
     ]
    },
    {
     "data": {
      "image/png": "[encoded data removed]",
      "text/plain": [
       "<PIL.PngImagePlugin.PngImageFile image mode=1 size=1263x95 at 0x7F5F3047FF50>"
      ]
     },
     "metadata": {},
     "output_type": "display_data"
    },
    {
     "name": "stderr",
     "output_type": "stream",
     "text": [
      "\r",
      "  1%|▌                                   | 1224/87678 [00:00<01:03, 1370.13it/s]"
     ]
    },
    {
     "name": "stdout",
     "output_type": "stream",
     "text": [
      "Assertion error: There are 14 near-max-value rows\n",
      "/home/macosta/ttmp/primus-processed/225003650-1_1_1.png\n"
     ]
    },
    {
     "data": {
      "image/png": "[encoded data removed]",
      "text/plain": [
       "<PIL.PngImagePlugin.PngImageFile image mode=1 size=1073x95 at 0x7F5F303A2510>"
      ]
     },
     "metadata": {},
     "output_type": "display_data"
    },
    {
     "name": "stderr",
     "output_type": "stream",
     "text": [
      "\r",
      "  2%|▌                                   | 1362/87678 [00:01<01:03, 1365.91it/s]"
     ]
    },
    {
     "name": "stdout",
     "output_type": "stream",
     "text": [
      "Assertion error: There are 14 near-max-value rows\n",
      "/home/macosta/ttmp/primus-processed/225001072-1_13_1.png\n"
     ]
    },
    {
     "data": {
      "image/png": "[encoded data removed]",
      "text/plain": [
       "<PIL.PngImagePlugin.PngImageFile image mode=1 size=1273x95 at 0x7F5F305B7D90>"
      ]
     },
     "metadata": {},
     "output_type": "display_data"
    },
    {
     "name": "stdout",
     "output_type": "stream",
     "text": [
      "Assertion error: There are 14 near-max-value rows\n",
      "/home/macosta/ttmp/primus-processed/000101842-1_1_1.png\n"
     ]
    },
    {
     "data": {
      "image/png": "[encoded data removed]",
      "text/plain": [
       "<PIL.PngImagePlugin.PngImageFile image mode=1 size=1373x95 at 0x7F5F46403C10>"
      ]
     },
     "metadata": {},
     "output_type": "display_data"
    },
    {
     "name": "stderr",
     "output_type": "stream",
     "text": [
      "  2%|▊                                    | 2018/87678 [00:05<03:45, 379.72it/s]\n"
     ]
    },
    {
     "ename": "KeyboardInterrupt",
     "evalue": "",
     "output_type": "error",
     "traceback": [
      "\u001b[0;31m---------------------------------------------------------------------------\u001b[0m",
      "\u001b[0;31mKeyboardInterrupt\u001b[0m                         Traceback (most recent call last)",
      "\u001b[0;32m/tmp/ipykernel_2425397/3579478350.py\u001b[0m in \u001b[0;36m<module>\u001b[0;34m\u001b[0m\n\u001b[1;32m      9\u001b[0m \u001b[0;31m#     for col in columns:\u001b[0m\u001b[0;34m\u001b[0m\u001b[0;34m\u001b[0m\u001b[0;34m\u001b[0m\u001b[0m\n\u001b[1;32m     10\u001b[0m \u001b[0;31m#         row_vals += [int(digit) for digit in col]\u001b[0m\u001b[0;34m\u001b[0m\u001b[0;34m\u001b[0m\u001b[0;34m\u001b[0m\u001b[0m\n\u001b[0;32m---> 11\u001b[0;31m     \u001b[0mimg\u001b[0m \u001b[0;34m=\u001b[0m \u001b[0mImage\u001b[0m\u001b[0;34m.\u001b[0m\u001b[0mopen\u001b[0m\u001b[0;34m(\u001b[0m\u001b[0mfull_path\u001b[0m\u001b[0;34m)\u001b[0m\u001b[0;34m\u001b[0m\u001b[0;34m\u001b[0m\u001b[0m\n\u001b[0m\u001b[1;32m     12\u001b[0m     \u001b[0mimg_np\u001b[0m \u001b[0;34m=\u001b[0m \u001b[0;34m(\u001b[0m\u001b[0;36m1\u001b[0m \u001b[0;34m-\u001b[0m \u001b[0mnp\u001b[0m\u001b[0;34m.\u001b[0m\u001b[0marray\u001b[0m\u001b[0;34m(\u001b[0m\u001b[0mimg\u001b[0m\u001b[0;34m)\u001b[0m\u001b[0;34m)\u001b[0m\u001b[0;34m\u001b[0m\u001b[0;34m\u001b[0m\u001b[0m\n\u001b[1;32m     13\u001b[0m     \u001b[0mrow_vals\u001b[0m \u001b[0;34m=\u001b[0m \u001b[0mnp\u001b[0m\u001b[0;34m.\u001b[0m\u001b[0msum\u001b[0m\u001b[0;34m(\u001b[0m\u001b[0mimg_np\u001b[0m\u001b[0;34m,\u001b[0m \u001b[0maxis\u001b[0m\u001b[0;34m=\u001b[0m\u001b[0;36m1\u001b[0m\u001b[0;34m)\u001b[0m\u001b[0;34m\u001b[0m\u001b[0;34m\u001b[0m\u001b[0m\n",
      "\u001b[0;32m~/anaconda3/envs/mir2/lib/python3.7/site-packages/PIL/Image.py\u001b[0m in \u001b[0;36mopen\u001b[0;34m(fp, mode, formats)\u001b[0m\n\u001b[1;32m   2968\u001b[0m     \u001b[0mfilename\u001b[0m \u001b[0;34m=\u001b[0m \u001b[0;34m\"\"\u001b[0m\u001b[0;34m\u001b[0m\u001b[0;34m\u001b[0m\u001b[0m\n\u001b[1;32m   2969\u001b[0m     \u001b[0;32mif\u001b[0m \u001b[0misinstance\u001b[0m\u001b[0;34m(\u001b[0m\u001b[0mfp\u001b[0m\u001b[0;34m,\u001b[0m \u001b[0mPath\u001b[0m\u001b[0;34m)\u001b[0m\u001b[0;34m:\u001b[0m\u001b[0;34m\u001b[0m\u001b[0;34m\u001b[0m\u001b[0m\n\u001b[0;32m-> 2970\u001b[0;31m         \u001b[0mfilename\u001b[0m \u001b[0;34m=\u001b[0m \u001b[0mstr\u001b[0m\u001b[0;34m(\u001b[0m\u001b[0mfp\u001b[0m\u001b[0;34m.\u001b[0m\u001b[0mresolve\u001b[0m\u001b[0;34m(\u001b[0m\u001b[0;34m)\u001b[0m\u001b[0;34m)\u001b[0m\u001b[0;34m\u001b[0m\u001b[0;34m\u001b[0m\u001b[0m\n\u001b[0m\u001b[1;32m   2971\u001b[0m     \u001b[0;32melif\u001b[0m \u001b[0misPath\u001b[0m\u001b[0;34m(\u001b[0m\u001b[0mfp\u001b[0m\u001b[0;34m)\u001b[0m\u001b[0;34m:\u001b[0m\u001b[0;34m\u001b[0m\u001b[0;34m\u001b[0m\u001b[0m\n\u001b[1;32m   2972\u001b[0m         \u001b[0mfilename\u001b[0m \u001b[0;34m=\u001b[0m \u001b[0mfp\u001b[0m\u001b[0;34m\u001b[0m\u001b[0;34m\u001b[0m\u001b[0m\n",
      "\u001b[0;32m~/anaconda3/envs/mir2/lib/python3.7/pathlib.py\u001b[0m in \u001b[0;36mresolve\u001b[0;34m(self, strict)\u001b[0m\n\u001b[1;32m   1172\u001b[0m         \u001b[0;31m# Now we have no symlinks in the path, it's safe to normalize it.\u001b[0m\u001b[0;34m\u001b[0m\u001b[0;34m\u001b[0m\u001b[0;34m\u001b[0m\u001b[0m\n\u001b[1;32m   1173\u001b[0m         \u001b[0mnormed\u001b[0m \u001b[0;34m=\u001b[0m \u001b[0mself\u001b[0m\u001b[0;34m.\u001b[0m\u001b[0m_flavour\u001b[0m\u001b[0;34m.\u001b[0m\u001b[0mpathmod\u001b[0m\u001b[0;34m.\u001b[0m\u001b[0mnormpath\u001b[0m\u001b[0;34m(\u001b[0m\u001b[0ms\u001b[0m\u001b[0;34m)\u001b[0m\u001b[0;34m\u001b[0m\u001b[0;34m\u001b[0m\u001b[0m\n\u001b[0;32m-> 1174\u001b[0;31m         \u001b[0mobj\u001b[0m \u001b[0;34m=\u001b[0m \u001b[0mself\u001b[0m\u001b[0;34m.\u001b[0m\u001b[0m_from_parts\u001b[0m\u001b[0;34m(\u001b[0m\u001b[0;34m(\u001b[0m\u001b[0mnormed\u001b[0m\u001b[0;34m,\u001b[0m\u001b[0;34m)\u001b[0m\u001b[0;34m,\u001b[0m \u001b[0minit\u001b[0m\u001b[0;34m=\u001b[0m\u001b[0;32mFalse\u001b[0m\u001b[0;34m)\u001b[0m\u001b[0;34m\u001b[0m\u001b[0;34m\u001b[0m\u001b[0m\n\u001b[0m\u001b[1;32m   1175\u001b[0m         \u001b[0mobj\u001b[0m\u001b[0;34m.\u001b[0m\u001b[0m_init\u001b[0m\u001b[0;34m(\u001b[0m\u001b[0mtemplate\u001b[0m\u001b[0;34m=\u001b[0m\u001b[0mself\u001b[0m\u001b[0;34m)\u001b[0m\u001b[0;34m\u001b[0m\u001b[0;34m\u001b[0m\u001b[0m\n\u001b[1;32m   1176\u001b[0m         \u001b[0;32mreturn\u001b[0m \u001b[0mobj\u001b[0m\u001b[0;34m\u001b[0m\u001b[0;34m\u001b[0m\u001b[0m\n",
      "\u001b[0;32m~/anaconda3/envs/mir2/lib/python3.7/pathlib.py\u001b[0m in \u001b[0;36m_from_parts\u001b[0;34m(cls, args, init)\u001b[0m\n\u001b[1;32m    672\u001b[0m         \u001b[0;31m# right flavour.\u001b[0m\u001b[0;34m\u001b[0m\u001b[0;34m\u001b[0m\u001b[0;34m\u001b[0m\u001b[0m\n\u001b[1;32m    673\u001b[0m         \u001b[0mself\u001b[0m \u001b[0;34m=\u001b[0m \u001b[0mobject\u001b[0m\u001b[0;34m.\u001b[0m\u001b[0m__new__\u001b[0m\u001b[0;34m(\u001b[0m\u001b[0mcls\u001b[0m\u001b[0;34m)\u001b[0m\u001b[0;34m\u001b[0m\u001b[0;34m\u001b[0m\u001b[0m\n\u001b[0;32m--> 674\u001b[0;31m         \u001b[0mdrv\u001b[0m\u001b[0;34m,\u001b[0m \u001b[0mroot\u001b[0m\u001b[0;34m,\u001b[0m \u001b[0mparts\u001b[0m \u001b[0;34m=\u001b[0m \u001b[0mself\u001b[0m\u001b[0;34m.\u001b[0m\u001b[0m_parse_args\u001b[0m\u001b[0;34m(\u001b[0m\u001b[0margs\u001b[0m\u001b[0;34m)\u001b[0m\u001b[0;34m\u001b[0m\u001b[0;34m\u001b[0m\u001b[0m\n\u001b[0m\u001b[1;32m    675\u001b[0m         \u001b[0mself\u001b[0m\u001b[0;34m.\u001b[0m\u001b[0m_drv\u001b[0m \u001b[0;34m=\u001b[0m \u001b[0mdrv\u001b[0m\u001b[0;34m\u001b[0m\u001b[0;34m\u001b[0m\u001b[0m\n\u001b[1;32m    676\u001b[0m         \u001b[0mself\u001b[0m\u001b[0;34m.\u001b[0m\u001b[0m_root\u001b[0m \u001b[0;34m=\u001b[0m \u001b[0mroot\u001b[0m\u001b[0;34m\u001b[0m\u001b[0;34m\u001b[0m\u001b[0m\n",
      "\u001b[0;32m~/anaconda3/envs/mir2/lib/python3.7/pathlib.py\u001b[0m in \u001b[0;36m_parse_args\u001b[0;34m(cls, args)\u001b[0m\n\u001b[1;32m    665\u001b[0m                         \u001b[0;34m\"object returning str, not %r\"\u001b[0m\u001b[0;34m\u001b[0m\u001b[0;34m\u001b[0m\u001b[0m\n\u001b[1;32m    666\u001b[0m                         % type(a))\n\u001b[0;32m--> 667\u001b[0;31m         \u001b[0;32mreturn\u001b[0m \u001b[0mcls\u001b[0m\u001b[0;34m.\u001b[0m\u001b[0m_flavour\u001b[0m\u001b[0;34m.\u001b[0m\u001b[0mparse_parts\u001b[0m\u001b[0;34m(\u001b[0m\u001b[0mparts\u001b[0m\u001b[0;34m)\u001b[0m\u001b[0;34m\u001b[0m\u001b[0;34m\u001b[0m\u001b[0m\n\u001b[0m\u001b[1;32m    668\u001b[0m \u001b[0;34m\u001b[0m\u001b[0m\n\u001b[1;32m    669\u001b[0m     \u001b[0;34m@\u001b[0m\u001b[0mclassmethod\u001b[0m\u001b[0;34m\u001b[0m\u001b[0;34m\u001b[0m\u001b[0m\n",
      "\u001b[0;32m~/anaconda3/envs/mir2/lib/python3.7/pathlib.py\u001b[0m in \u001b[0;36mparse_parts\u001b[0;34m(self, parts)\u001b[0m\n\u001b[1;32m     76\u001b[0m                 \u001b[0;32mfor\u001b[0m \u001b[0mx\u001b[0m \u001b[0;32min\u001b[0m \u001b[0mreversed\u001b[0m\u001b[0;34m(\u001b[0m\u001b[0mrel\u001b[0m\u001b[0;34m.\u001b[0m\u001b[0msplit\u001b[0m\u001b[0;34m(\u001b[0m\u001b[0msep\u001b[0m\u001b[0;34m)\u001b[0m\u001b[0;34m)\u001b[0m\u001b[0;34m:\u001b[0m\u001b[0;34m\u001b[0m\u001b[0;34m\u001b[0m\u001b[0m\n\u001b[1;32m     77\u001b[0m                     \u001b[0;32mif\u001b[0m \u001b[0mx\u001b[0m \u001b[0;32mand\u001b[0m \u001b[0mx\u001b[0m \u001b[0;34m!=\u001b[0m \u001b[0;34m'.'\u001b[0m\u001b[0;34m:\u001b[0m\u001b[0;34m\u001b[0m\u001b[0;34m\u001b[0m\u001b[0m\n\u001b[0;32m---> 78\u001b[0;31m                         \u001b[0mparsed\u001b[0m\u001b[0;34m.\u001b[0m\u001b[0mappend\u001b[0m\u001b[0;34m(\u001b[0m\u001b[0msys\u001b[0m\u001b[0;34m.\u001b[0m\u001b[0mintern\u001b[0m\u001b[0;34m(\u001b[0m\u001b[0mx\u001b[0m\u001b[0;34m)\u001b[0m\u001b[0;34m)\u001b[0m\u001b[0;34m\u001b[0m\u001b[0;34m\u001b[0m\u001b[0m\n\u001b[0m\u001b[1;32m     79\u001b[0m             \u001b[0;32melse\u001b[0m\u001b[0;34m:\u001b[0m\u001b[0;34m\u001b[0m\u001b[0;34m\u001b[0m\u001b[0m\n\u001b[1;32m     80\u001b[0m                 \u001b[0;32mif\u001b[0m \u001b[0mrel\u001b[0m \u001b[0;32mand\u001b[0m \u001b[0mrel\u001b[0m \u001b[0;34m!=\u001b[0m \u001b[0;34m'.'\u001b[0m\u001b[0;34m:\u001b[0m\u001b[0;34m\u001b[0m\u001b[0;34m\u001b[0m\u001b[0m\n",
      "\u001b[0;31mKeyboardInterrupt\u001b[0m: "
     ]
    }
   ],
   "source": [
    "def check_stafflines_in_original_db():\n",
    "    for txt_path in tqdm(os.listdir(PROCESSED_IMG_DIRECTORY_PATH)):\n",
    "        full_path = PROCESSED_IMG_DIRECTORY_PATH / txt_path\n",
    "        if not os.path.isfile(full_path):\n",
    "            continue\n",
    "        img = Image.open(full_path)\n",
    "        img_np = (1 - np.array(img))\n",
    "        row_vals = np.sum(img_np, axis=1)\n",
    "        try:\n",
    "            assert row_vals.shape[0] == HEIGHT, f\"Image height is not {HEIGHT}\"\n",
    "            index_weight_pairs = list(zip(np.arange(len(row_vals)), row_vals))\n",
    "            max_val = max(row_vals)\n",
    "            max_rows = [x for x in index_weight_pairs if x[1] == max_val]\n",
    "            stafflines = [x for x in index_weight_pairs if x[1] >= max_val - 2]\n",
    "            assert len(max_rows) == 5, f\"There are not {len(max_rows)} max-value rows\"\n",
    "            assert len(stafflines) == 15, f\"There are {len(stafflines)} near-max-value rows\"\n",
    "        except AssertionError as e:\n",
    "            print(f\"Assertion error: {e}\")\n",
    "            print(full_path)\n",
    "            img.show()"
   ]
  },
  {
   "cell_type": "code",
   "execution_count": 57,
   "id": "b82ecea0",
   "metadata": {},
   "outputs": [],
   "source": [
    "# png_paths = get_png_paths()"
   ]
  },
  {
   "cell_type": "code",
   "execution_count": 114,
   "id": "d000ab48",
   "metadata": {},
   "outputs": [],
   "source": [
    "def calculate_index_weight_pairs(img_np):\n",
    "    row_vals = np.sum(img_np, axis=1)\n",
    "    return row_vals, list(zip(np.arange(len(row_vals)), row_vals))\n",
    "\n",
    "def crop_img_np(img_np, top_staffline_center, bottom_staffline_center, buffer_px):\n",
    "    desired_height = 18 * 4 + 3 + buffer_px * 2\n",
    "    top, bottom = top_staffline_center - 1 - buffer_px, bottom_staffline_center + 1 + buffer_px\n",
    "    # Pad with zeros if top goes above image\n",
    "    if top < 0:\n",
    "        img_np = np.vstack((np.zeros((-top, img_np.shape[1])), img_np))\n",
    "        bottom -= top\n",
    "        top = 0\n",
    "    if bottom >= img_np.shape[0]:\n",
    "        img_np = np.vstack((img_np, np.zeros((bottom - img_np.shape[0] + 1, img_np.shape[1]))))\n",
    "    cropped = img_np[top : bottom + 1, :].astype(np.uint8)\n",
    "    assert cropped.shape[0] == desired_height, f\"Assertion failed: cropped image has height {cropped.shape[0]}, not {desired_height}\"\n",
    "    return cropped\n",
    "\n",
    "def save_safe_crops(savedir, buffer_px=50):\n",
    "    savedir.mkdir(exist_ok=True)\n",
    "    for png_path in tqdm(png_paths):\n",
    "        img_np = np.array(Image.open(png_path))\n",
    "        row_vals, index_weight_pairs = calculate_index_weight_pairs(img_np)\n",
    "        max_val = max(row_vals)\n",
    "        max_rows = [x[0] for x in index_weight_pairs if x[1] == max_val]\n",
    "        assert len(max_rows) == 5, f\"Assertion failed: {len(max_rows)} max rows found\"\n",
    "        if max_rows[-1] == len(img_np) - 1:\n",
    "            img_np = np.vstack((img_np, [img_np[-2]]))\n",
    "        cropped = crop_img_np(img_np, max_rows[0], max_rows[-1], buffer_px)\n",
    "        row_vals, index_weight_pairs = calculate_index_weight_pairs(cropped)\n",
    "        max_rows = [x[0] for x in index_weight_pairs if x[1] == max_val]\n",
    "        near_max_rows = [x[0] for x in index_weight_pairs if x[1] >= max_val - 2 and x[1] < max_val]\n",
    "        assert len(near_max_rows) == 10, f\"Assertion failed: {len(near_max_rows)} near max rows found\"\n",
    "        for i in range(5):\n",
    "            assert near_max_rows[i*2] + 1 == max_rows[i], f\"Assertion failed: {i}th staff line doesn't match {i*2}th near max row\"\n",
    "            assert near_max_rows[i*2+1] - 1 == max_rows[i], f\"Assertion failed: {i}th staff line doesn't match {i*2+1}th near max row\"\n",
    "            if i > 0:\n",
    "                assert max_rows[i] - max_rows[i-1] == 18, f\"Assertion failed: found {max_rows[i] - max_rows[i-1]} pixels between stafflines {i-1} and {i}\"\n",
    "        assert max_rows[0] == buffer_px + 1, f\"Assertion failed: expected first staff line to be at {buffer_px+1}, found it at {max_rows[0]} instead\"\n",
    "        savename = savedir / Path(png_path).name\n",
    "        img_cropped = Image.fromarray((1 - cropped) * 255, mode='L').convert('1')\n",
    "        img_cropped.save(savename)"
   ]
  },
  {
   "cell_type": "code",
   "execution_count": 115,
   "id": "30191c93",
   "metadata": {},
   "outputs": [
    {
     "name": "stderr",
     "output_type": "stream",
     "text": [
      "100%|████████████████████████████████████| 87678/87678 [06:29<00:00, 225.08it/s]\n"
     ]
    }
   ],
   "source": [
    "# save_safe_crops(SAVE_CROPPED_DIR)"
   ]
  },
  {
   "cell_type": "code",
   "execution_count": 125,
   "id": "d5971070",
   "metadata": {},
   "outputs": [],
   "source": [
    "def image_to_txt_columnwise(from_dir, to_dir):\n",
    "    to_dir.mkdir(exist_ok=True)\n",
    "    for img_filename in tqdm(os.listdir(from_dir)):\n",
    "        img_full_path = from_dir / img_filename\n",
    "        savepath = to_dir / f\"{Path(img_filename).name[:-4]}.txt\"\n",
    "        img_np = 1 - np.array(Image.open(img_full_path), dtype=np.uint8)\n",
    "        full_text = \"\"\n",
    "        for i in range(img_np.shape[1]):\n",
    "            column = img_np[:,i]\n",
    "            column_txt = \"\".join([str(digit) for digit in column])\n",
    "            full_text += f\"{column_txt} \"\n",
    "        full_text = full_text.strip()\n",
    "        with open(savepath, \"w\") as f:\n",
    "            f.write(full_text)"
   ]
  },
  {
   "cell_type": "code",
   "execution_count": 126,
   "id": "991e6f13",
   "metadata": {
    "collapsed": true
   },
   "outputs": [
    {
     "name": "stderr",
     "output_type": "stream",
     "text": [
      " 44%|██████████████▌                  | 38552/87678 [1:06:45<1:25:04,  9.62it/s]\n"
     ]
    },
    {
     "ename": "KeyboardInterrupt",
     "evalue": "",
     "output_type": "error",
     "traceback": [
      "\u001b[0;31m---------------------------------------------------------------------------\u001b[0m",
      "\u001b[0;31mKeyboardInterrupt\u001b[0m                         Traceback (most recent call last)",
      "\u001b[0;32m/tmp/ipykernel_2425397/1161828130.py\u001b[0m in \u001b[0;36m<module>\u001b[0;34m\u001b[0m\n\u001b[0;32m----> 1\u001b[0;31m \u001b[0mimage_to_txt_columnwise\u001b[0m\u001b[0;34m(\u001b[0m\u001b[0mSAVE_CROPPED_DIR\u001b[0m\u001b[0;34m,\u001b[0m \u001b[0mSAVE_TXT_DIR\u001b[0m\u001b[0;34m)\u001b[0m\u001b[0;34m\u001b[0m\u001b[0;34m\u001b[0m\u001b[0m\n\u001b[0m",
      "\u001b[0;32m/tmp/ipykernel_2425397/1284877858.py\u001b[0m in \u001b[0;36mimage_to_txt_columnwise\u001b[0;34m(from_dir, to_dir)\u001b[0m\n\u001b[1;32m      8\u001b[0m         \u001b[0;32mfor\u001b[0m \u001b[0mi\u001b[0m \u001b[0;32min\u001b[0m \u001b[0mrange\u001b[0m\u001b[0;34m(\u001b[0m\u001b[0mimg_np\u001b[0m\u001b[0;34m.\u001b[0m\u001b[0mshape\u001b[0m\u001b[0;34m[\u001b[0m\u001b[0;36m1\u001b[0m\u001b[0;34m]\u001b[0m\u001b[0;34m)\u001b[0m\u001b[0;34m:\u001b[0m\u001b[0;34m\u001b[0m\u001b[0;34m\u001b[0m\u001b[0m\n\u001b[1;32m      9\u001b[0m             \u001b[0mcolumn\u001b[0m \u001b[0;34m=\u001b[0m \u001b[0mimg_np\u001b[0m\u001b[0;34m[\u001b[0m\u001b[0;34m:\u001b[0m\u001b[0;34m,\u001b[0m\u001b[0mi\u001b[0m\u001b[0;34m]\u001b[0m\u001b[0;34m\u001b[0m\u001b[0;34m\u001b[0m\u001b[0m\n\u001b[0;32m---> 10\u001b[0;31m             \u001b[0mcolumn_txt\u001b[0m \u001b[0;34m=\u001b[0m \u001b[0;34m\"\"\u001b[0m\u001b[0;34m.\u001b[0m\u001b[0mjoin\u001b[0m\u001b[0;34m(\u001b[0m\u001b[0;34m[\u001b[0m\u001b[0mstr\u001b[0m\u001b[0;34m(\u001b[0m\u001b[0mdigit\u001b[0m\u001b[0;34m)\u001b[0m \u001b[0;32mfor\u001b[0m \u001b[0mdigit\u001b[0m \u001b[0;32min\u001b[0m \u001b[0mcolumn\u001b[0m\u001b[0;34m]\u001b[0m\u001b[0;34m)\u001b[0m\u001b[0;34m\u001b[0m\u001b[0;34m\u001b[0m\u001b[0m\n\u001b[0m\u001b[1;32m     11\u001b[0m             \u001b[0mfull_text\u001b[0m \u001b[0;34m+=\u001b[0m \u001b[0;34mf\"{column_txt} \"\u001b[0m\u001b[0;34m\u001b[0m\u001b[0;34m\u001b[0m\u001b[0m\n\u001b[1;32m     12\u001b[0m         \u001b[0mfull_text\u001b[0m \u001b[0;34m=\u001b[0m \u001b[0mfull_text\u001b[0m\u001b[0;34m.\u001b[0m\u001b[0mstrip\u001b[0m\u001b[0;34m(\u001b[0m\u001b[0;34m)\u001b[0m\u001b[0;34m\u001b[0m\u001b[0;34m\u001b[0m\u001b[0m\n",
      "\u001b[0;32m/tmp/ipykernel_2425397/1284877858.py\u001b[0m in \u001b[0;36m<listcomp>\u001b[0;34m(.0)\u001b[0m\n\u001b[1;32m      8\u001b[0m         \u001b[0;32mfor\u001b[0m \u001b[0mi\u001b[0m \u001b[0;32min\u001b[0m \u001b[0mrange\u001b[0m\u001b[0;34m(\u001b[0m\u001b[0mimg_np\u001b[0m\u001b[0;34m.\u001b[0m\u001b[0mshape\u001b[0m\u001b[0;34m[\u001b[0m\u001b[0;36m1\u001b[0m\u001b[0;34m]\u001b[0m\u001b[0;34m)\u001b[0m\u001b[0;34m:\u001b[0m\u001b[0;34m\u001b[0m\u001b[0;34m\u001b[0m\u001b[0m\n\u001b[1;32m      9\u001b[0m             \u001b[0mcolumn\u001b[0m \u001b[0;34m=\u001b[0m \u001b[0mimg_np\u001b[0m\u001b[0;34m[\u001b[0m\u001b[0;34m:\u001b[0m\u001b[0;34m,\u001b[0m\u001b[0mi\u001b[0m\u001b[0;34m]\u001b[0m\u001b[0;34m\u001b[0m\u001b[0;34m\u001b[0m\u001b[0m\n\u001b[0;32m---> 10\u001b[0;31m             \u001b[0mcolumn_txt\u001b[0m \u001b[0;34m=\u001b[0m \u001b[0;34m\"\"\u001b[0m\u001b[0;34m.\u001b[0m\u001b[0mjoin\u001b[0m\u001b[0;34m(\u001b[0m\u001b[0;34m[\u001b[0m\u001b[0mstr\u001b[0m\u001b[0;34m(\u001b[0m\u001b[0mdigit\u001b[0m\u001b[0;34m)\u001b[0m \u001b[0;32mfor\u001b[0m \u001b[0mdigit\u001b[0m \u001b[0;32min\u001b[0m \u001b[0mcolumn\u001b[0m\u001b[0;34m]\u001b[0m\u001b[0;34m)\u001b[0m\u001b[0;34m\u001b[0m\u001b[0;34m\u001b[0m\u001b[0m\n\u001b[0m\u001b[1;32m     11\u001b[0m             \u001b[0mfull_text\u001b[0m \u001b[0;34m+=\u001b[0m \u001b[0;34mf\"{column_txt} \"\u001b[0m\u001b[0;34m\u001b[0m\u001b[0;34m\u001b[0m\u001b[0m\n\u001b[1;32m     12\u001b[0m         \u001b[0mfull_text\u001b[0m \u001b[0;34m=\u001b[0m \u001b[0mfull_text\u001b[0m\u001b[0;34m.\u001b[0m\u001b[0mstrip\u001b[0m\u001b[0;34m(\u001b[0m\u001b[0;34m)\u001b[0m\u001b[0;34m\u001b[0m\u001b[0;34m\u001b[0m\u001b[0m\n",
      "\u001b[0;31mKeyboardInterrupt\u001b[0m: "
     ]
    }
   ],
   "source": [
    "image_to_txt_columnwise(SAVE_CROPPED_DIR, SAVE_TXT_DIR)"
   ]
  },
  {
   "cell_type": "code",
   "execution_count": 131,
   "id": "879b6b06",
   "metadata": {},
   "outputs": [
    {
     "name": "stderr",
     "output_type": "stream",
     "text": [
      "100%|███████████████████████████████████| 87679/87679 [00:41<00:00, 2095.67it/s]\n"
     ]
    }
   ],
   "source": [
    "for txt_filename in tqdm(os.listdir(SAVE_TXT_DIR)):\n",
    "    txt_full_path = SAVE_TXT_DIR / txt_filename\n",
    "    if not os.path.isfile(txt_full_path):\n",
    "        continue\n",
    "    with open(txt_full_path, \"r\") as f:\n",
    "        text = f.read()\n",
    "    text = text.split()\n",
    "    for col in text:\n",
    "        assert(len(col) == 18 * 4 + 3 + 50 * 2)"
   ]
  }
 ],
 "metadata": {
  "kernelspec": {
   "display_name": "Python 3 (ipykernel)",
   "language": "python",
   "name": "python3"
  },
  "language_info": {
   "codemirror_mode": {
    "name": "ipython",
    "version": 3
   },
   "file_extension": ".py",
   "mimetype": "text/x-python",
   "name": "python",
   "nbconvert_exporter": "python",
   "pygments_lexer": "ipython3",
   "version": "3.7.11"
  }
 },
 "nbformat": 4,
 "nbformat_minor": 5
}
