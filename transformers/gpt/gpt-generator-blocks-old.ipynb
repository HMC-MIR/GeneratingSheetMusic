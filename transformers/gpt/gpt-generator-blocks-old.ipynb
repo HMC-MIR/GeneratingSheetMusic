{
 "cells": [
  {
   "cell_type": "code",
   "execution_count": 63,
   "id": "5d999fe2",
   "metadata": {},
   "outputs": [],
   "source": [
    "from transformers import GPT2LMHeadModel, GPT2TokenizerFast, GPT2Config\n",
    "\n",
    "import torch\n",
    "from torch.utils.data import Dataset\n",
    "from tqdm import tqdm\n",
    "from pathlib import Path\n",
    "import numpy as np\n",
    "from PIL import Image\n",
    "import os\n",
    "from math import ceil"
   ]
  },
  {
   "cell_type": "code",
   "execution_count": 64,
   "id": "15da417c",
   "metadata": {},
   "outputs": [],
   "source": [
    "VOCAB_SIZE = 30000\n",
    "MAX_LEN = 128"
   ]
  },
  {
   "cell_type": "code",
   "execution_count": 65,
   "id": "d39b6fbb",
   "metadata": {},
   "outputs": [],
   "source": [
    "TOKENIZER_SAVEDIR = Path('/home/macosta/ttmp/primus-data/blocks/blocks-v3-tokenizer/')\n",
    "LM_MODEL_SAVEDIR = Path('/home/macosta/ttmp/primus-models/gpt2-lm-blocks-nocols/')\n",
    "PRIMUS_TXT_FILES = Path('/home/ibukey/ttmp/blocks-txt-v3/')"
   ]
  },
  {
   "cell_type": "code",
   "execution_count": 66,
   "id": "d52484a0",
   "metadata": {},
   "outputs": [],
   "source": [
    "config = GPT2Config(\n",
    "    vocab_size=VOCAB_SIZE,\n",
    "    n_positions=MAX_LEN,\n",
    "    n_head=12,\n",
    ")"
   ]
  },
  {
   "cell_type": "code",
   "execution_count": 67,
   "id": "b0e85caf",
   "metadata": {},
   "outputs": [],
   "source": [
    "model = GPT2LMHeadModel(config=config).from_pretrained(str(LM_MODEL_SAVEDIR))"
   ]
  },
  {
   "cell_type": "code",
   "execution_count": 68,
   "id": "be9c9806",
   "metadata": {},
   "outputs": [
    {
     "name": "stderr",
     "output_type": "stream",
     "text": [
      "file /home/macosta/ttmp/primus-data/blocks/blocks-v3-tokenizer/config.json not found\n",
      "Special tokens have been added in the vocabulary, make sure the associated word embeddings are fine-tuned or trained.\n"
     ]
    }
   ],
   "source": [
    "tokenizer = GPT2TokenizerFast.from_pretrained(TOKENIZER_SAVEDIR, max_len=MAX_LEN)"
   ]
  },
  {
   "cell_type": "code",
   "execution_count": 77,
   "id": "e6d9301a",
   "metadata": {},
   "outputs": [],
   "source": [
    "def tokens_to_image(tokens):\n",
    "    tokens = [t for t in tokens if t not in [\"<s>\", \"</s>\", \"<pad>\"]]\n",
    "    img_array = np.ones((15 * 6 + 5 * 3, ceil(len(tokens) / 6)*15), dtype=np.uint8) * 255\n",
    "    for i in range(5):\n",
    "        img_array[i*18+15:(i*18)+3+15, :] = 0\n",
    "    for i, token in enumerate(tokens):\n",
    "        if token == '<unk>':\n",
    "            token_np = UNK_TOKEN\n",
    "        else:\n",
    "            token_np = np.array([int(x) for x in token]).reshape((15, 15))\n",
    "            token_np = token_np * 255\n",
    "        row = i % 6\n",
    "        column = i // 6\n",
    "        start_row = row * 18\n",
    "        start_column = column * 15\n",
    "        img_array[start_row:start_row+15, start_column:start_column+15] = token_np\n",
    "        img = Image.fromarray(img_array)\n",
    "    return img"
   ]
  },
  {
   "cell_type": "code",
   "execution_count": 74,
   "id": "fa770ac9",
   "metadata": {},
   "outputs": [
    {
     "data": {
      "text/plain": [
       "[3]"
      ]
     },
     "execution_count": 74,
     "metadata": {},
     "output_type": "execute_result"
    }
   ],
   "source": [
    "tokenizer.encode('<unk>')"
   ]
  },
  {
   "cell_type": "code",
   "execution_count": 83,
   "id": "d349c146",
   "metadata": {},
   "outputs": [],
   "source": [
    "UNK_TOKEN = ''.join([\"0\" if i % 2 else \"1\" for i in range(225)])"
   ]
  },
  {
   "cell_type": "code",
   "execution_count": 99,
   "id": "dd384350",
   "metadata": {},
   "outputs": [],
   "source": [
    "def continue_image(max_len=512, show=True, show_original=True, temp=1):\n",
    "#     with open(file, 'r') as f:\n",
    "#         data = f.read()\n",
    "#     tokens = data.split()\n",
    "#     index = int(np.random.random()*(len(tokens) - seed_length))\n",
    "#     index = (index // 4) * 4\n",
    "#     seed = tokens[index:index + seed_length]\n",
    "#     if show_original:\n",
    "#         tokens_to_image(seed).show()\n",
    "#         tokens_to_image(tokens[index:index + max_len]).show()\n",
    "#     input_string = f\"{' '.join(seed[-(max_len - 1):])}\"\n",
    "    input_string = '<s>'\n",
    "    inputs = tokenizer.encode(input_string, return_tensors=\"pt\")\n",
    "    output_tokens = model.generate(inputs, \n",
    "                                   min_length=max_len,\n",
    "                                   max_length=max_len, \n",
    "                                   pad_token_id=1,\n",
    "                                   eos_token_id=2,\n",
    "                                   temperature=temp,\n",
    "                                   do_sample=True,\n",
    "                                   bad_words_ids=[[3]])[0]\n",
    "    output_tokens = tokenizer.decode(output_tokens).split()\n",
    "    output_tokens = [UNK_TOKEN if t == '<unk>' else t for t in output_tokens if t not in ['<s>', '</s>', '<pad>']]\n",
    "    img = tokens_to_image(output_tokens)\n",
    "    if show:\n",
    "        img.show()\n",
    "    return img"
   ]
  },
  {
   "cell_type": "code",
   "execution_count": 98,
   "id": "77e6d424",
   "metadata": {
    "scrolled": true
   },
   "outputs": [
    {
     "data": {
      "image/png": "[encoded data removed]",
      "text/plain": [
       "<PIL.Image.Image image mode=L size=1290x105 at 0x7F685CB80610>"
      ]
     },
     "metadata": {},
     "output_type": "display_data"
    }
   ],
   "source": [
    "img = continue_image()"
   ]
  },
  {
   "cell_type": "code",
   "execution_count": 100,
   "id": "bfc3ca8e",
   "metadata": {},
   "outputs": [],
   "source": [
    "def generate_incipits(N, savedir):\n",
    "    savedir.mkdir(exist_ok=True)\n",
    "    for i in range(N):\n",
    "        img = continue_image(show=False)\n",
    "        img.save(savedir / f\"generated_{i}.png\")"
   ]
  },
  {
   "cell_type": "code",
   "execution_count": 101,
   "id": "3e6d6d2d",
   "metadata": {},
   "outputs": [],
   "source": [
    "generate_incipits(30, Path('/home/macosta/ttmp/generated-blockwise-v2'))"
   ]
  }
 ],
 "metadata": {
  "kernelspec": {
   "display_name": "Python 3 (ipykernel)",
   "language": "python",
   "name": "python3"
  },
  "language_info": {
   "codemirror_mode": {
    "name": "ipython",
    "version": 3
   },
   "file_extension": ".py",
   "mimetype": "text/x-python",
   "name": "python",
   "nbconvert_exporter": "python",
   "pygments_lexer": "ipython3",
   "version": "3.7.11"
  }
 },
 "nbformat": 4,
 "nbformat_minor": 5
}
