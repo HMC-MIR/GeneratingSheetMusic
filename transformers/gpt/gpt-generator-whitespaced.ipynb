{
 "cells": [
  {
   "cell_type": "code",
   "execution_count": 22,
   "id": "5d999fe2",
   "metadata": {},
   "outputs": [],
   "source": [
    "from transformers import GPT2LMHeadModel, GPT2TokenizerFast, GPT2Config\n",
    "\n",
    "import torch\n",
    "from torch.utils.data import Dataset\n",
    "from tqdm import tqdm\n",
    "from pathlib import Path\n",
    "import numpy as np\n",
    "from PIL import Image\n",
    "import os"
   ]
  },
  {
   "cell_type": "code",
   "execution_count": 23,
   "id": "15da417c",
   "metadata": {},
   "outputs": [],
   "source": [
    "VOCAB_SIZE = 30000\n",
    "MAX_LEN = 64"
   ]
  },
  {
   "cell_type": "code",
   "execution_count": 24,
   "id": "d39b6fbb",
   "metadata": {},
   "outputs": [],
   "source": [
    "TOKENIZER_SAVEDIR = Path('/home/macosta/ttmp/primus-data/visual-tokens-7/')\n",
    "LM_MODEL_SAVEDIR = Path('/home/macosta/ttmp/primus-models/gpt2-lm-visual-tokens-7/')\n",
    "TXT_FILES = Path('/home/macosta/ttmp/primus-data/leipzig-filtered/leipzig-delim-7/')"
   ]
  },
  {
   "cell_type": "code",
   "execution_count": 25,
   "id": "d52484a0",
   "metadata": {},
   "outputs": [],
   "source": [
    "config = GPT2Config(\n",
    "    vocab_size=VOCAB_SIZE,\n",
    "    n_positions=MAX_LEN,\n",
    "    n_head=12,\n",
    ")"
   ]
  },
  {
   "cell_type": "code",
   "execution_count": 26,
   "id": "b0e85caf",
   "metadata": {},
   "outputs": [],
   "source": [
    "model = GPT2LMHeadModel(config=config).from_pretrained(str(LM_MODEL_SAVEDIR))"
   ]
  },
  {
   "cell_type": "code",
   "execution_count": 27,
   "id": "be9c9806",
   "metadata": {},
   "outputs": [
    {
     "name": "stderr",
     "output_type": "stream",
     "text": [
      "file /home/macosta/ttmp/primus-data/visual-tokens-7/config.json not found\n",
      "Special tokens have been added in the vocabulary, make sure the associated word embeddings are fine-tuned or trained.\n"
     ]
    }
   ],
   "source": [
    "tokenizer = GPT2TokenizerFast.from_pretrained(TOKENIZER_SAVEDIR, max_len=MAX_LEN)"
   ]
  },
  {
   "cell_type": "code",
   "execution_count": 28,
   "id": "1b038c0e",
   "metadata": {},
   "outputs": [],
   "source": [
    "STAFFLINE = \"0000000000000000000000000000000000000000000000000011100000000000000011100000000000000011100000000000000011100000000000000011100000000000000000000000000000000000000000000000000\"\n",
    "STAFFLINES = [STAFFLINE] * 20\n",
    "STAFFLINES = ' ' + ' '.join(STAFFLINES) + ' '"
   ]
  },
  {
   "cell_type": "code",
   "execution_count": 29,
   "id": "e6d9301a",
   "metadata": {},
   "outputs": [],
   "source": [
    "def tokens_to_img(tokens):\n",
    "    tokens = [t for t in tokens if t[0] != '<']\n",
    "    txt = STAFFLINES.join(tokens)\n",
    "    cols = txt.replace('_', ' ').split(' ')\n",
    "    arr = [[int(x) for x in col] for col in cols]\n",
    "    arr = (1 - np.array(arr, dtype=np.uint8)) * 255\n",
    "    img = Image.fromarray(arr.T)\n",
    "    return img"
   ]
  },
  {
   "cell_type": "code",
   "execution_count": 15,
   "id": "d1b1c8d7",
   "metadata": {},
   "outputs": [],
   "source": [
    "# def tokens_to_img(tokens):\n",
    "#     tokens = [t for t in tokens if t[0] != '<']\n",
    "#     txt = STAFFLINES.join(tokens)\n",
    "#     txt = txt.replace(' ', '')\n",
    "#     cols = [txt[i:i+175] for i in range(0, len(txt), 175)]\n",
    "#     arr = [[int(x) for x in col] for col in cols]\n",
    "#     arr = (1 - np.array(arr, dtype=np.uint8)) * 255\n",
    "#     return Image.fromarray(arr.T)"
   ]
  },
  {
   "cell_type": "code",
   "execution_count": 30,
   "id": "9c3308ac",
   "metadata": {},
   "outputs": [],
   "source": [
    "def generate_image(show=False):\n",
    "    input_str = torch.tensor([[0]])\n",
    "    output_tokens = model.generate(input_str, \n",
    "                                   pad_token_id=1,\n",
    "                                   eos_token_id=2,\n",
    "                                   temperature=1,\n",
    "                                   max_length=MAX_LEN,\n",
    "                                   do_sample=True)[0]\n",
    "    output_tokens = tokenizer.decode(output_tokens).split()\n",
    "    if output_tokens[0] == '<s>':\n",
    "        output_tokens = output_tokens[1:]\n",
    "    img = tokens_to_img(output_tokens)\n",
    "    if show:\n",
    "        img.show()\n",
    "    return img"
   ]
  },
  {
   "cell_type": "code",
   "execution_count": 35,
   "id": "3a67a743",
   "metadata": {},
   "outputs": [],
   "source": [
    "def generate_images(n, savepath):\n",
    "    savepath.mkdir(exist_ok=True)\n",
    "    for i in tqdm(range(n)):\n",
    "        img = generate_image()\n",
    "        img.save(savepath / f\"generated-columnwise-{i}.png\")"
   ]
  },
  {
   "cell_type": "code",
   "execution_count": 33,
   "id": "4cd5193c",
   "metadata": {
    "scrolled": false
   },
   "outputs": [
    {
     "data": {
      "image/png": "[encoded data removed]",
      "text/plain": [
       "<PIL.Image.Image image mode=L size=1219x175 at 0x7FEA7C246750>"
      ]
     },
     "execution_count": 33,
     "metadata": {},
     "output_type": "execute_result"
    }
   ],
   "source": [
    "generate_image()"
   ]
  },
  {
   "cell_type": "code",
   "execution_count": 36,
   "id": "98076340",
   "metadata": {},
   "outputs": [
    {
     "name": "stderr",
     "output_type": "stream",
     "text": [
      "100%|████████████████████████████████████████████████████████████████████████████████████████████████████████████████████████| 30/30 [00:12<00:00,  2.34it/s]\n"
     ]
    }
   ],
   "source": [
    "generate_images(30, savepath=Path('/home/macosta/ttmp/generated-visual-tokens/'))"
   ]
  }
 ],
 "metadata": {
  "kernelspec": {
   "display_name": "Python 3 (ipykernel)",
   "language": "python",
   "name": "python3"
  },
  "language_info": {
   "codemirror_mode": {
    "name": "ipython",
    "version": 3
   },
   "file_extension": ".py",
   "mimetype": "text/x-python",
   "name": "python",
   "nbconvert_exporter": "python",
   "pygments_lexer": "ipython3",
   "version": "3.7.11"
  }
 },
 "nbformat": 4,
 "nbformat_minor": 5
}
