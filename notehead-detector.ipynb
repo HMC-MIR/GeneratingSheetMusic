{
 "cells": [
  {
   "cell_type": "code",
   "execution_count": 59,
   "id": "cf98e4bd",
   "metadata": {},
   "outputs": [],
   "source": [
    "import cv2 as cv\n",
    "from pathlib import Path\n",
    "from PIL import Image\n",
    "import os\n",
    "import numpy as np\n",
    "import re"
   ]
  },
  {
   "cell_type": "code",
   "execution_count": 3,
   "id": "3f456af6",
   "metadata": {},
   "outputs": [],
   "source": [
    "PNG_SOURCE_DIR = Path('/home/macosta/ttmp/primus-data/cropped/cropped-png/')"
   ]
  },
  {
   "cell_type": "code",
   "execution_count": 4,
   "id": "2f876461",
   "metadata": {},
   "outputs": [
    {
     "data": {
      "image/png": "[encoded data removed]",
      "text/plain": [
       "<PIL.Image.Image image mode=L size=979x175 at 0x7FEFC24D6F90>"
      ]
     },
     "metadata": {},
     "output_type": "display_data"
    }
   ],
   "source": [
    "file = os.listdir(PNG_SOURCE_DIR)[4]\n",
    "img = cv.imread(str(PNG_SOURCE_DIR / file), 0)\n",
    "img_copy = img.copy()\n",
    "Image.fromarray(img).show()"
   ]
  },
  {
   "cell_type": "code",
   "execution_count": 368,
   "id": "ca05bb93",
   "metadata": {},
   "outputs": [
    {
     "data": {
      "image/png": "[encoded data removed]",
      "text/plain": [
       "<PIL.Image.Image image mode=L size=25x25 at 0x7F22D4F53690>"
      ]
     },
     "metadata": {},
     "output_type": "display_data"
    },
    {
     "data": {
      "image/png": "[encoded data removed]",
      "text/plain": [
       "<PIL.Image.Image image mode=L size=25x25 at 0x7F22D4F53490>"
      ]
     },
     "metadata": {},
     "output_type": "display_data"
    },
    {
     "data": {
      "image/png": "[encoded data removed]",
      "text/plain": [
       "<PIL.Image.Image image mode=L size=25x35 at 0x7F22D4F53FD0>"
      ]
     },
     "metadata": {},
     "output_type": "display_data"
    }
   ],
   "source": [
    "img = cv.imread(str(PNG_SOURCE_DIR / os.listdir(PNG_SOURCE_DIR)[0]), 0)\n",
    "Image.fromarray(img[85:110, 175:200]).show()\n",
    "Image.fromarray(img[40:65, 265:290]).show()\n",
    "Image.fromarray(img[70:105, 130:155]).show()"
   ]
  },
  {
   "cell_type": "code",
   "execution_count": 243,
   "id": "905bf76d",
   "metadata": {},
   "outputs": [
    {
     "data": {
      "image/png": "[encoded data removed]",
      "text/plain": [
       "<PIL.Image.Image image mode=L size=15x15 at 0x7F22D4F8F610>"
      ]
     },
     "metadata": {},
     "output_type": "display_data"
    },
    {
     "data": {
      "image/png": "[encoded data removed]",
      "text/plain": [
       "<PIL.Image.Image image mode=L size=12x85 at 0x7F22D4F8F110>"
      ]
     },
     "metadata": {},
     "output_type": "display_data"
    }
   ],
   "source": [
    "img = cv.imread(str(PNG_SOURCE_DIR / os.listdir(PNG_SOURCE_DIR)[1]), 0)\n",
    "Image.fromarray(img[70:85, 185:200]).show()\n",
    "Image.fromarray(img[45:130, 500:512]).show()"
   ]
  },
  {
   "cell_type": "code",
   "execution_count": 313,
   "id": "9e669907",
   "metadata": {},
   "outputs": [
    {
     "data": {
      "image/png": "[encoded data removed]",
      "text/plain": [
       "<PIL.Image.Image image mode=L size=30x18 at 0x7F22D4FA4510>"
      ]
     },
     "metadata": {},
     "output_type": "display_data"
    },
    {
     "data": {
      "image/png": "[encoded data removed]",
      "text/plain": [
       "<PIL.Image.Image image mode=L size=30x20 at 0x7F22D4FA4F10>"
      ]
     },
     "metadata": {},
     "output_type": "display_data"
    },
    {
     "data": {
      "image/png": "[encoded data removed]",
      "text/plain": [
       "<PIL.Image.Image image mode=L size=25x20 at 0x7F22D4FA4150>"
      ]
     },
     "metadata": {},
     "output_type": "display_data"
    },
    {
     "data": {
      "image/png": "[encoded data removed]",
      "text/plain": [
       "<PIL.Image.Image image mode=L size=25x20 at 0x7F22D4FA4510>"
      ]
     },
     "metadata": {},
     "output_type": "display_data"
    }
   ],
   "source": [
    "img = cv.imread(str(PNG_SOURCE_DIR / os.listdir(PNG_SOURCE_DIR)[6]), 0)\n",
    "Image.fromarray(img[70:88, 160:190]).show()\n",
    "Image.fromarray(img[40:60, 560:590]).show()\n",
    "Image.fromarray(img[50:70, 650:675]).show()\n",
    "Image.fromarray(img[40:60, 520:545]).show()"
   ]
  },
  {
   "cell_type": "code",
   "execution_count": 404,
   "id": "6c647b1e",
   "metadata": {},
   "outputs": [
    {
     "data": {
      "image/png": "[encoded data removed]",
      "text/plain": [
       "<PIL.Image.Image image mode=L size=20x60 at 0x7F22D50B5950>"
      ]
     },
     "metadata": {},
     "output_type": "display_data"
    }
   ],
   "source": [
    "img = cv.imread(str(PNG_SOURCE_DIR / os.listdir(PNG_SOURCE_DIR)[4]), 0)\n",
    "Image.fromarray(img[60:120, 295:315]).show()"
   ]
  },
  {
   "cell_type": "code",
   "execution_count": 5,
   "id": "9f4bdc31",
   "metadata": {},
   "outputs": [],
   "source": [
    "img = cv.imread(str(PNG_SOURCE_DIR / os.listdir(PNG_SOURCE_DIR)[0]), 0)\n",
    "filled_space = img[85:110, 175:200]\n",
    "filled_line = img[40:65, 265:290]\n",
    "eighth_rest = img[70:105, 130:155]\n",
    "img = cv.imread(str(PNG_SOURCE_DIR / os.listdir(PNG_SOURCE_DIR)[1]), 0)\n",
    "dot = img[70:85, 185:200]\n",
    "barline = img[45:130, 500:512]\n",
    "img = cv.imread(str(PNG_SOURCE_DIR / os.listdir(PNG_SOURCE_DIR)[6]), 0)\n",
    "whole_space = img[70:88, 160:190]\n",
    "whole_line = img[40:60, 560:590]\n",
    "half_space = img[50:70, 650:675]\n",
    "half_line = img[40:60, 520:545]\n",
    "img = cv.imread(str(PNG_SOURCE_DIR / os.listdir(PNG_SOURCE_DIR)[4]), 0)\n",
    "quarter_rest = img[60:120, 295:315]"
   ]
  },
  {
   "cell_type": "code",
   "execution_count": 27,
   "id": "0630d4be",
   "metadata": {},
   "outputs": [],
   "source": [
    "templates_thresholds = [\n",
    "    (filled_space, 0.65), \n",
    "    (filled_line, 0.65), \n",
    "    (eighth_rest, 0.7),\n",
    "    (quarter_rest, 0.7), \n",
    "    (dot, 0.7), \n",
    "    (barline, 0.95), \n",
    "    (whole_space, 0.7), \n",
    "    (whole_line, 0.7), \n",
    "    (half_space, 0.7),\n",
    "    (half_line, 0.7)\n",
    "]\n",
    "\n",
    "can_have_beams = [0, 1]"
   ]
  },
  {
   "cell_type": "code",
   "execution_count": 99,
   "id": "d8afa8d1",
   "metadata": {},
   "outputs": [],
   "source": [
    "def erode_image(img):\n",
    "    kernel = np.zeros((5,5),np.uint8)\n",
    "    for i in range(5):\n",
    "        kernel[i, 2] = 1\n",
    "    eroded = cv.dilate(img, kernel, iterations=1)\n",
    "    return eroded\n",
    "\n",
    "def stem_faces_up(img, top_left_notehead, bottom_right_notehead):\n",
    "    tln = top_left_notehead\n",
    "    brn = bottom_right_notehead\n",
    "    bounding_box = img[tln[1]-10:brn[1]+10, tln[0]:brn[0]]\n",
    "    top = 0 in bounding_box[0]\n",
    "    bottom = 0 in bounding_box[-1]\n",
    "    if top and not bottom:\n",
    "        return True, True\n",
    "    elif bottom and not top:\n",
    "        return False, True\n",
    "    else:\n",
    "        return True, False\n",
    "\n",
    "def count_beams(img, top_left_notehead, bottom_right_notehead):\n",
    "    tln = top_left_notehead\n",
    "    brn = bottom_right_notehead\n",
    "    eroded = erode_image(img)\n",
    "    faces_up, unambiguous = stem_faces_up(eroded, tln, brn)\n",
    "#     print(f\"Faces up: {faces_up} Unambiguous: {unambiguous}\")\n",
    "    if faces_up:\n",
    "        trn = (brn[0], tln[1])\n",
    "        bounding_box = eroded[max(trn[1] - 100, 0):trn[1], trn[0]-5:trn[0]+10]\n",
    "        Image.fromarray(bounding_box).show()\n",
    "    else:\n",
    "        bln = (tln[0], brn[1])\n",
    "        bounding_box = eroded[bln[1]:min(bln[1] + 100, len(eroded)), bln[0]-5:bln[0]+10]\n",
    "        Image.fromarray(bounding_box).show()\n",
    "    left_side = bounding_box[:, 0]\n",
    "    right_side = bounding_box[:, -1]\n",
    "    left_side = ''.join([str(x//255) for x in left_side])\n",
    "    left_side = re.sub('0+', 'x', left_side)\n",
    "    left_side = re.sub('1+', '', left_side)\n",
    "    right_side = ''.join([str(x//255) for x in right_side])\n",
    "    right_side = re.sub('0+', 'x', right_side)\n",
    "    right_side = re.sub('1+', '', right_side)\n",
    "#     print(len(left_side), len(right_side))\n",
    "    return len(left_side), len(right_side)"
   ]
  },
  {
   "cell_type": "code",
   "execution_count": 100,
   "id": "d76c7102",
   "metadata": {
    "scrolled": false
   },
   "outputs": [
    {
     "data": {
      "image/png": "[encoded data removed]",
      "text/plain": [
       "<PIL.Image.Image image mode=L size=1386x175 at 0x7FEFC243B810>"
      ]
     },
     "metadata": {},
     "output_type": "display_data"
    },
    {
     "data": {
      "image/png": "[encoded data removed]",
      "text/plain": [
       "<PIL.Image.Image image mode=L size=15x100 at 0x7FEFC243B810>"
      ]
     },
     "metadata": {},
     "output_type": "display_data"
    },
    {
     "data": {
      "image/png": "[encoded data removed]",
      "text/plain": [
       "<PIL.Image.Image image mode=L size=15x100 at 0x7FEFC243BF50>"
      ]
     },
     "metadata": {},
     "output_type": "display_data"
    },
    {
     "data": {
      "image/png": "[encoded data removed]",
      "text/plain": [
       "<PIL.Image.Image image mode=L size=15x100 at 0x7FEFC243B350>"
      ]
     },
     "metadata": {},
     "output_type": "display_data"
    },
    {
     "data": {
      "image/png": "[encoded data removed]",
      "text/plain": [
       "<PIL.Image.Image image mode=L size=15x100 at 0x7FEFC23CF550>"
      ]
     },
     "metadata": {},
     "output_type": "display_data"
    },
    {
     "data": {
      "image/png": "[encoded data removed]",
      "text/plain": [
       "<PIL.Image.Image image mode=L size=15x100 at 0x7FEFC2374A90>"
      ]
     },
     "metadata": {},
     "output_type": "display_data"
    },
    {
     "data": {
      "image/png": "[encoded data removed]",
      "text/plain": [
       "<PIL.Image.Image image mode=L size=15x100 at 0x7FEFC235AC50>"
      ]
     },
     "metadata": {},
     "output_type": "display_data"
    },
    {
     "data": {
      "image/png": "[encoded data removed]",
      "text/plain": [
       "<PIL.Image.Image image mode=L size=15x100 at 0x7FF004287C50>"
      ]
     },
     "metadata": {},
     "output_type": "display_data"
    },
    {
     "data": {
      "image/png": "[encoded data removed]",
      "text/plain": [
       "<PIL.Image.Image image mode=L size=15x92 at 0x7FEFC243B3D0>"
      ]
     },
     "metadata": {},
     "output_type": "display_data"
    },
    {
     "data": {
      "image/png": "[encoded data removed]",
      "text/plain": [
       "<PIL.Image.Image image mode=L size=15x100 at 0x7FEFC23CF610>"
      ]
     },
     "metadata": {},
     "output_type": "display_data"
    },
    {
     "data": {
      "image/png": "[encoded data removed]",
      "text/plain": [
       "<PIL.Image.Image image mode=L size=15x100 at 0x7FEFC23CF0D0>"
      ]
     },
     "metadata": {},
     "output_type": "display_data"
    },
    {
     "data": {
      "image/png": "[encoded data removed]",
      "text/plain": [
       "<PIL.Image.Image image mode=L size=15x100 at 0x7FEFC2374DD0>"
      ]
     },
     "metadata": {},
     "output_type": "display_data"
    },
    {
     "data": {
      "image/png": "[encoded data removed]",
      "text/plain": [
       "<PIL.Image.Image image mode=L size=15x92 at 0x7FEFC235AB10>"
      ]
     },
     "metadata": {},
     "output_type": "display_data"
    },
    {
     "data": {
      "image/png": "[encoded data removed]",
      "text/plain": [
       "<PIL.Image.Image image mode=L size=15x100 at 0x7FEFC243B3D0>"
      ]
     },
     "metadata": {},
     "output_type": "display_data"
    },
    {
     "data": {
      "image/png": "[encoded data removed]",
      "text/plain": [
       "<PIL.Image.Image image mode=L size=15x100 at 0x7FEFC23CF490>"
      ]
     },
     "metadata": {},
     "output_type": "display_data"
    },
    {
     "data": {
      "image/png": "[encoded data removed]",
      "text/plain": [
       "<PIL.Image.Image image mode=L size=15x100 at 0x7FEFC23CF550>"
      ]
     },
     "metadata": {},
     "output_type": "display_data"
    },
    {
     "data": {
      "image/png": "[encoded data removed]",
      "text/plain": [
       "<PIL.Image.Image image mode=L size=15x100 at 0x7FEFC2374BD0>"
      ]
     },
     "metadata": {},
     "output_type": "display_data"
    },
    {
     "data": {
      "image/png": "[encoded data removed]",
      "text/plain": [
       "<PIL.Image.Image image mode=L size=15x100 at 0x7FEFC235AFD0>"
      ]
     },
     "metadata": {},
     "output_type": "display_data"
    },
    {
     "data": {
      "image/png": "[encoded data removed]",
      "text/plain": [
       "<PIL.Image.Image image mode=L size=15x100 at 0x7FEFC243BD10>"
      ]
     },
     "metadata": {},
     "output_type": "display_data"
    },
    {
     "data": {
      "image/png": "[encoded data removed]",
      "text/plain": [
       "<PIL.Image.Image image mode=L size=1386x175 at 0x7FEFC23CF610>"
      ]
     },
     "metadata": {},
     "output_type": "display_data"
    }
   ],
   "source": [
    "i = 11\n",
    "img = cv.imread(str(PNG_SOURCE_DIR / os.listdir(PNG_SOURCE_DIR)[i]), 0)\n",
    "img_copy = img.copy()\n",
    "Image.fromarray(img).show()\n",
    "locations = []\n",
    "for i, (template, threshold) in enumerate(templates_thresholds):\n",
    "    res = cv.matchTemplate(img,template,cv.TM_CCOEFF_NORMED)\n",
    "    while np.max(res) > threshold:\n",
    "        _, _, _, top_left = cv.minMaxLoc(res)\n",
    "        bottom_right = (top_left[0] + template.shape[1], top_left[1] + template.shape[0])\n",
    "        if i in can_have_beams:\n",
    "            left_beams, right_beams = count_beams(img, top_left, bottom_right)\n",
    "#             print(left_beams, right_beams)\n",
    "        locations.append((top_left, bottom_right))\n",
    "        # Fill in region to prevent being matched again\n",
    "        img[top_left[1]:bottom_right[1], top_left[0]:bottom_right[0]] = 0\n",
    "#         if i in can_have_beams:\n",
    "#             Image.fromarray(img).show()\n",
    "        \n",
    "        res = cv.matchTemplate(img, template, cv.TM_CCOEFF_NORMED)\n",
    "Image.fromarray(img).show()"
   ]
  },
  {
   "cell_type": "code",
   "execution_count": 22,
   "id": "3bc5c856",
   "metadata": {},
   "outputs": [
    {
     "data": {
      "image/png": "[encoded data removed]",
      "text/plain": [
       "<PIL.Image.Image image mode=L size=2002x175 at 0x7FEFC243B210>"
      ]
     },
     "metadata": {},
     "output_type": "display_data"
    },
    {
     "data": {
      "image/png": "[encoded data removed]",
      "text/plain": [
       "<PIL.Image.Image image mode=L size=2002x175 at 0x7FEFC243BE50>"
      ]
     },
     "metadata": {},
     "output_type": "display_data"
    }
   ],
   "source": [
    "img = cv.imread(str(PNG_SOURCE_DIR / os.listdir(PNG_SOURCE_DIR)[13]), 0)\n",
    "Image.fromarray(img).show()\n",
    "kernel = np.zeros((5,5),np.uint8)\n",
    "for i in range(5):\n",
    "    kernel[i, 2] = 1\n",
    "erosion = cv.dilate(img,kernel,iterations = 1)\n",
    "Image.fromarray(erosion).show()"
   ]
  }
 ],
 "metadata": {
  "kernelspec": {
   "display_name": "Python 3 (ipykernel)",
   "language": "python",
   "name": "python3"
  },
  "language_info": {
   "codemirror_mode": {
    "name": "ipython",
    "version": 3
   },
   "file_extension": ".py",
   "mimetype": "text/x-python",
   "name": "python",
   "nbconvert_exporter": "python",
   "pygments_lexer": "ipython3",
   "version": "3.7.11"
  }
 },
 "nbformat": 4,
 "nbformat_minor": 5
}
