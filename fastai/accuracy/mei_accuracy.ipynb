{
 "cells": [
  {
   "cell_type": "code",
   "execution_count": 1,
   "metadata": {},
   "outputs": [],
   "source": [
    "import os\n",
    "from pathlib import Path\n",
    "import re\n",
    "from tqdm import tqdm\n",
    "from PIL import Image"
   ]
  },
  {
   "cell_type": "code",
   "execution_count": 2,
   "metadata": {},
   "outputs": [],
   "source": [
    "def get_accuracy(mei, sixteenths):\n",
    "    dur_to_sixteenth = {'1\"': 16, '2\"': 8, '4\"': 4, '8\"': 2, '16': 1, '32': 0.5, '64':0.25, 'breve': 32, 'long': 64}\n",
    "    bar_num = 0\n",
    "    bar_end = False\n",
    "    accurate = 0\n",
    "    inaccurate = 0\n",
    "    metercount, meterunit = None, None\n",
    "    num_sixteenths = 0\n",
    "    last_duration = 0\n",
    "    current_dots = 0\n",
    "    ignored = 0\n",
    "    ignoring = False\n",
    "    multirest = False\n",
    "    stop = False\n",
    "    for word in mei:\n",
    "        if word[:6] == '<layer':\n",
    "            num_sixteenths = 0\n",
    "            last_duration = 0\n",
    "            bar_num += 1\n",
    "            ignored = 0\n",
    "            ignoring = False\n",
    "            current_dots = 0\n",
    "            multirest = False\n",
    "        elif word == \"</layer>\":   # it only updates accuracy if last measure is complete?\n",
    "            if bar_num != 1 and not ignoring:  # if it wasn't the first bar, record accurate or inaccurate\n",
    "                if num_sixteenths == sixteenths:\n",
    "                    accurate += 1\n",
    "                elif multirest:\n",
    "                    accurate += 1\n",
    "                else:\n",
    "                    inaccurate += 1 \n",
    "            num_sixteenths = 0\n",
    "            last_duration = 0\n",
    "            ignored = 0\n",
    "            ignoring = False\n",
    "            current_dots = 0\n",
    "            multirest = False\n",
    "        elif word[:5] == 'dur=\"':\n",
    "            if word[5:7] in dur_to_sixteenth.keys():\n",
    "                dur = word[5:7]\n",
    "            elif word[5:10] == 'breve':\n",
    "                dur = word[5:10]\n",
    "            elif word[5:9] == 'long':\n",
    "                dur = word[5:9]\n",
    "            else:\n",
    "                print(word)\n",
    "#                 print(file)# invalid (shouldn't be included)\n",
    "                \n",
    "            if not ignoring and (not stop):\n",
    "                if current_dots == 1:\n",
    "                    last_duration = dur_to_sixteenth[dur] + (dur_to_sixteenth[dur] * 0.5)\n",
    "                    current_dots = 0\n",
    "                elif current_dots == 2:\n",
    "                    last_duration = dur_to_sixteenth[dur] + (dur_to_sixteenth[dur] * 0.75)\n",
    "                    current_dots = 0\n",
    "                else:\n",
    "                    last_duration = dur_to_sixteenth[dur]\n",
    "                num_sixteenths += last_duration\n",
    "        elif word[:6] == 'dots=\"':\n",
    "            if last_duration != 0:\n",
    "                if word[6] == '1':\n",
    "                    current_dots += 1\n",
    "                elif word[6] == '2':\n",
    "                    current_dots += 2\n",
    "            else:\n",
    "                ignored += 1\n",
    "                ignoring = True\n",
    "        elif word == '<multiRest':\n",
    "            multirest = True\n",
    "            last_duration = 0\n",
    "        elif (bar_num != 0) and word[:5] == 'meter':  # stop if new time signature\n",
    "            stop = True\n",
    "            last_duration = 0\n",
    "        elif word[:5] == 'grace':\n",
    "            # remove last duration\n",
    "            num_sixteenths -= last_duration\n",
    "            last_duration = 0\n",
    "        \n",
    "    return accurate, inaccurate, ignored\n",
    "            "
   ]
  },
  {
   "cell_type": "markdown",
   "metadata": {},
   "source": [
    "# GPT-2"
   ]
  },
  {
   "cell_type": "code",
   "execution_count": 90,
   "metadata": {},
   "outputs": [
    {
     "data": {
      "text/plain": [
       "664"
      ]
     },
     "execution_count": 90,
     "metadata": {},
     "output_type": "execute_result"
    }
   ],
   "source": [
    "# might need to change code, but basically\n",
    "    # make a list of filenames that are invalid\n",
    "\n",
    "failed_engravings = Path('/home/ibukey/ttmp/failed_engravings_marcos.txt')\n",
    "failed_list = []\n",
    "with open(failed_engravings) as f:\n",
    "    t = f.read().split()\n",
    "    for file in t:\n",
    "        failed_list.append(file[48:-4])\n",
    "len(failed_list)"
   ]
  },
  {
   "cell_type": "code",
   "execution_count": 91,
   "metadata": {},
   "outputs": [],
   "source": [
    "# might need to change code, but basically\n",
    "    # make lists of files that end in mei and are not in the failed list of files\n",
    "\n",
    "MEI_2_4 = [file for file in os.listdir('/home/macosta/ttmp/generated-mei-timesigs-final/2-4') if (file[-4:] == '.mei' and '2-4/'+file[:-4] not in failed_list)]\n",
    "MEI_3_4 = [file for file in os.listdir('/home/macosta/ttmp/generated-mei-timesigs-final/3-4') if (file[-4:] == '.mei' and '3-4/'+file[:-4] not in failed_list)]\n",
    "MEI_C = [file for file in os.listdir('/home/macosta/ttmp/generated-mei-timesigs-final/C') if (file[-4:] == '.mei' and 'C/'+file[:-4] not in failed_list)]\n",
    "MEI_5_4 = [file for file in os.listdir('/home/macosta/ttmp/generated-mei-timesigs-final/5-4') if (file[-4:] == '.mei' and '5-4/'+file[:-4] not in failed_list)]\n",
    "MEI_6_4 = [file for file in os.listdir('/home/macosta/ttmp/generated-mei-timesigs-final/6-4') if (file[-4:] == '.mei' and '6-4/'+file[:-4] not in failed_list)]\n",
    "MEI_7_4 = [file for file in os.listdir('/home/macosta/ttmp/generated-mei-timesigs-final/7-4') if (file[-4:] == '.mei' and '7-4/'+file[:-4] not in failed_list)]\n",
    "MEI_3_8 = [file for file in os.listdir('/home/macosta/ttmp/generated-mei-timesigs-final/3-8') if (file[-4:] == '.mei' and '3-8/'+file[:-4] not in failed_list)]\n",
    "MEI_6_8 = [file for file in os.listdir('/home/macosta/ttmp/generated-mei-timesigs-final/6-8') if (file[-4:] == '.mei' and '6-8/'+file[:-4] not in failed_list)]"
   ]
  },
  {
   "cell_type": "code",
   "execution_count": 92,
   "metadata": {},
   "outputs": [],
   "source": [
    "# check the total num files generated (ending in mei) and total num files that are valid\n",
    "# check that the difference is equal to the num files in failed_engravings\n",
    "PATH = '/home/macosta/ttmp/generated-mei-timesigs-final/'\n",
    "total_count = 0\n",
    "invalid_count = len(failed_list)\n",
    "valid_count = len(MEI_2_4) + len(MEI_3_4) + len(MEI_C) + len(MEI_5_4) + len(MEI_6_4) + \\\n",
    "            len(MEI_7_4) + len(MEI_3_8) + len(MEI_6_8)\n",
    "# total mei\n",
    "for folder in os.listdir(PATH):\n",
    "    for file in os.listdir(PATH + folder):\n",
    "        if file[-4:] == '.mei':\n",
    "            total_count += 1"
   ]
  },
  {
   "cell_type": "code",
   "execution_count": 93,
   "metadata": {},
   "outputs": [
    {
     "data": {
      "text/plain": [
       "(True, 16000, 664, 15336)"
      ]
     },
     "execution_count": 93,
     "metadata": {},
     "output_type": "execute_result"
    }
   ],
   "source": [
    "(total_count - invalid_count == valid_count), total_count, invalid_count, valid_count   "
   ]
  },
  {
   "cell_type": "code",
   "execution_count": 94,
   "metadata": {},
   "outputs": [],
   "source": [
    "results_2_4 = []\n",
    "for i in range(len(MEI_2_4)):\n",
    "    with open('/home/macosta/ttmp/generated-mei-timesigs-final/2-4/' + MEI_2_4[i]) as f:\n",
    "        t = f.read().split()\n",
    "        results_2_4.append(get_accuracy(t, 2*4))"
   ]
  },
  {
   "cell_type": "code",
   "execution_count": 95,
   "metadata": {},
   "outputs": [
    {
     "name": "stdout",
     "output_type": "stream",
     "text": [
      "[5681, 969, 0]\n"
     ]
    },
    {
     "data": {
      "text/plain": [
       "0.8542857142857143"
      ]
     },
     "execution_count": 95,
     "metadata": {},
     "output_type": "execute_result"
    }
   ],
   "source": [
    "acc_2_4 = [sum(x) for x in zip(*results_2_4)]\n",
    "print(acc_2_4)\n",
    "acc_2_4[0] / (acc_2_4[0] + acc_2_4[1])"
   ]
  },
  {
   "cell_type": "code",
   "execution_count": 96,
   "metadata": {},
   "outputs": [],
   "source": [
    "results_3_4 = []\n",
    "for i in range(len(MEI_3_4)):\n",
    "    with open('/home/macosta/ttmp/generated-mei-timesigs-final/3-4/' + MEI_3_4[i]) as f:\n",
    "        t = f.read().split()\n",
    "        results_3_4.append(get_accuracy(t, 3*4))"
   ]
  },
  {
   "cell_type": "code",
   "execution_count": 97,
   "metadata": {},
   "outputs": [
    {
     "name": "stdout",
     "output_type": "stream",
     "text": [
      "[5302, 796, 0]\n"
     ]
    },
    {
     "data": {
      "text/plain": [
       "0.8694653984913087"
      ]
     },
     "execution_count": 97,
     "metadata": {},
     "output_type": "execute_result"
    }
   ],
   "source": [
    "acc_3_4 = [sum(x) for x in zip(*results_3_4)]\n",
    "print(acc_3_4)\n",
    "acc_3_4[0] / (acc_3_4[0] + acc_3_4[1])"
   ]
  },
  {
   "cell_type": "code",
   "execution_count": 98,
   "metadata": {},
   "outputs": [],
   "source": [
    "results_C = []\n",
    "for i in range(len(MEI_C)):\n",
    "    with open('/home/macosta/ttmp/generated-mei-timesigs-final/C/' + MEI_C[i]) as f:\n",
    "        t = f.read().split()\n",
    "        results_C.append(get_accuracy(t, 4*4))"
   ]
  },
  {
   "cell_type": "code",
   "execution_count": 99,
   "metadata": {},
   "outputs": [
    {
     "name": "stdout",
     "output_type": "stream",
     "text": [
      "[3743, 1067, 0]\n"
     ]
    },
    {
     "data": {
      "text/plain": [
       "0.7781704781704781"
      ]
     },
     "execution_count": 99,
     "metadata": {},
     "output_type": "execute_result"
    }
   ],
   "source": [
    "acc_C = [sum(x) for x in zip(*results_C)]\n",
    "print(acc_C)\n",
    "acc_C[0] / (acc_C[0] + acc_C[1])"
   ]
  },
  {
   "cell_type": "code",
   "execution_count": 100,
   "metadata": {},
   "outputs": [],
   "source": [
    "results_5_4 = []\n",
    "for i in range(len(MEI_5_4)):\n",
    "    with open('/home/macosta/ttmp/generated-mei-timesigs-final/5-4/' + MEI_5_4[i]) as f:\n",
    "        t = f.read().split()\n",
    "        results_5_4.append(get_accuracy(t, 5*4))"
   ]
  },
  {
   "cell_type": "code",
   "execution_count": 101,
   "metadata": {},
   "outputs": [
    {
     "name": "stdout",
     "output_type": "stream",
     "text": [
      "[396, 3995, 0]\n"
     ]
    },
    {
     "data": {
      "text/plain": [
       "0.09018446823047142"
      ]
     },
     "execution_count": 101,
     "metadata": {},
     "output_type": "execute_result"
    }
   ],
   "source": [
    "acc_5_4 = [sum(x) for x in zip(*results_5_4)]\n",
    "print(acc_5_4)\n",
    "acc_5_4[0] / (acc_5_4[0] + acc_5_4[1])"
   ]
  },
  {
   "cell_type": "code",
   "execution_count": 102,
   "metadata": {},
   "outputs": [],
   "source": [
    "results_6_4 = []\n",
    "for i in range(len(MEI_6_4)):\n",
    "    with open('/home/macosta/ttmp/generated-mei-timesigs-final/6-4/' + MEI_6_4[i]) as f:\n",
    "        t = f.read().split()\n",
    "        results_6_4.append(get_accuracy(t, 6*4))"
   ]
  },
  {
   "cell_type": "code",
   "execution_count": 103,
   "metadata": {},
   "outputs": [
    {
     "name": "stdout",
     "output_type": "stream",
     "text": [
      "[2093, 1426, 0]\n"
     ]
    },
    {
     "data": {
      "text/plain": [
       "0.5947712418300654"
      ]
     },
     "execution_count": 103,
     "metadata": {},
     "output_type": "execute_result"
    }
   ],
   "source": [
    "acc_6_4 = [sum(x) for x in zip(*results_6_4)]\n",
    "print(acc_6_4)\n",
    "acc_6_4[0] / (acc_6_4[0] + acc_6_4[1])"
   ]
  },
  {
   "cell_type": "code",
   "execution_count": 104,
   "metadata": {},
   "outputs": [
    {
     "name": "stdout",
     "output_type": "stream",
     "text": [
      "dur=\"g\"/>\n"
     ]
    }
   ],
   "source": [
    "results_7_4 = []\n",
    "for i in range(len(MEI_7_4)):\n",
    "    with open('/home/macosta/ttmp/generated-mei-timesigs-final/7-4/' + MEI_7_4[i]) as f:\n",
    "        t = f.read().split()\n",
    "        results_7_4.append(get_accuracy(t, 7*4))"
   ]
  },
  {
   "cell_type": "code",
   "execution_count": 105,
   "metadata": {},
   "outputs": [
    {
     "name": "stdout",
     "output_type": "stream",
     "text": [
      "[304, 3362, 1]\n"
     ]
    },
    {
     "data": {
      "text/plain": [
       "0.08292416803055101"
      ]
     },
     "execution_count": 105,
     "metadata": {},
     "output_type": "execute_result"
    }
   ],
   "source": [
    "acc_7_4 = [sum(x) for x in zip(*results_7_4)]\n",
    "print(acc_7_4)\n",
    "acc_7_4[0] / (acc_7_4[0] + acc_7_4[1])"
   ]
  },
  {
   "cell_type": "code",
   "execution_count": 106,
   "metadata": {},
   "outputs": [],
   "source": [
    "results_3_8 = []\n",
    "for i in range(len(MEI_3_8)):\n",
    "    with open('/home/macosta/ttmp/generated-mei-timesigs-final/3-8/' + MEI_3_8[i]) as f:\n",
    "        t = f.read().split()\n",
    "        results_3_8.append(get_accuracy(t, 3*2))"
   ]
  },
  {
   "cell_type": "code",
   "execution_count": 107,
   "metadata": {},
   "outputs": [
    {
     "name": "stdout",
     "output_type": "stream",
     "text": [
      "[6463, 597, 0]\n"
     ]
    },
    {
     "data": {
      "text/plain": [
       "0.9154390934844192"
      ]
     },
     "execution_count": 107,
     "metadata": {},
     "output_type": "execute_result"
    }
   ],
   "source": [
    "acc_3_8 = [sum(x) for x in zip(*results_3_8)]\n",
    "print(acc_3_8)\n",
    "acc_3_8[0] / (acc_3_8[0] + acc_3_8[1])"
   ]
  },
  {
   "cell_type": "code",
   "execution_count": 108,
   "metadata": {},
   "outputs": [],
   "source": [
    "results_6_8 = []\n",
    "for i in range(len(MEI_6_8)):\n",
    "    with open('/home/macosta/ttmp/generated-mei-timesigs-final/6-8/' + MEI_6_8[i]) as f:\n",
    "        t = f.read().split()\n",
    "        results_6_8.append(get_accuracy(t, 6*2))"
   ]
  },
  {
   "cell_type": "code",
   "execution_count": 109,
   "metadata": {},
   "outputs": [
    {
     "name": "stdout",
     "output_type": "stream",
     "text": [
      "[4191, 857, 0]\n"
     ]
    },
    {
     "data": {
      "text/plain": [
       "0.830229793977813"
      ]
     },
     "execution_count": 109,
     "metadata": {},
     "output_type": "execute_result"
    }
   ],
   "source": [
    "acc_6_8 = [sum(x) for x in zip(*results_6_8)]\n",
    "print(acc_6_8)\n",
    "acc_6_8[0] / (acc_6_8[0] + acc_6_8[1])"
   ]
  },
  {
   "cell_type": "code",
   "execution_count": 110,
   "metadata": {},
   "outputs": [
    {
     "name": "stdout",
     "output_type": "stream",
     "text": [
      "[28173, 13069, 1]\n"
     ]
    },
    {
     "data": {
      "text/plain": [
       "0.6831143009553368"
      ]
     },
     "execution_count": 110,
     "metadata": {},
     "output_type": "execute_result"
    }
   ],
   "source": [
    "overall = [sum(x) for x in zip(acc_2_4,acc_3_4,acc_C,acc_5_4,acc_6_4,acc_7_4,acc_3_8,acc_6_8)]\n",
    "print(overall)\n",
    "overall[0] / (overall[0] + overall[1])"
   ]
  },
  {
   "cell_type": "markdown",
   "metadata": {},
   "source": [
    "# AWD-LSTM"
   ]
  },
  {
   "cell_type": "code",
   "execution_count": 16,
   "metadata": {},
   "outputs": [
    {
     "data": {
      "text/plain": [
       "129"
      ]
     },
     "execution_count": 16,
     "metadata": {},
     "output_type": "execute_result"
    }
   ],
   "source": [
    "# same as above\n",
    "\n",
    "failed_engravings = Path('/home/ibukey/ttmp/failed_engravings_irmak.txt')\n",
    "failed_list = []\n",
    "with open(failed_engravings) as f:\n",
    "    t = f.read().split()\n",
    "    for file in t:\n",
    "        failed_list.append(file[33:-4])  # might need to change\n",
    "len(failed_list)"
   ]
  },
  {
   "cell_type": "code",
   "execution_count": 17,
   "metadata": {},
   "outputs": [],
   "source": [
    "# same as above\n",
    "MEI_2_4 = [file for file in os.listdir('/home/ibukey/ttmp/mei-uncleaned') if (file[:9] == 'pred_2_4_' and file[:-4] not in failed_list)]\n",
    "MEI_3_4 = [file for file in os.listdir('/home/ibukey/ttmp/mei-uncleaned') if (file[:9] == 'pred_3_4_' and file[:-4] not in failed_list)]\n",
    "MEI_C = [file for file in os.listdir('/home/ibukey/ttmp/mei-uncleaned') if (file[:12] == 'pred_common_' and file[:-4] not in failed_list)]\n",
    "MEI_5_4 = [file for file in os.listdir('/home/ibukey/ttmp/mei-uncleaned') if (file[:9] == 'pred_5_4_' and file[:-4] not in failed_list)]\n",
    "MEI_6_4 = [file for file in os.listdir('/home/ibukey/ttmp/mei-uncleaned') if (file[:9] == 'pred_6_4_' and file[:-4] not in failed_list)]\n",
    "MEI_7_4 = [file for file in os.listdir('/home/ibukey/ttmp/mei-uncleaned') if (file[:9] == 'pred_7_4_' and file[:-4] not in failed_list)]\n",
    "MEI_3_8 = [file for file in os.listdir('/home/ibukey/ttmp/mei-uncleaned') if (file[:9] == 'pred_3_8_' and file[:-4] not in failed_list)]\n",
    "MEI_6_8 = [file for file in os.listdir('/home/ibukey/ttmp/mei-uncleaned') if (file[:9] == 'pred_6_8_' and file[:-4] not in failed_list)]"
   ]
  },
  {
   "cell_type": "code",
   "execution_count": 19,
   "metadata": {},
   "outputs": [],
   "source": [
    "# check the total num files generated (ending in mei) and total num files that are valid\n",
    "# check that the difference is equal to the num files in failed_engravings\n",
    "PATH = '/home/ibukey/ttmp/mei-uncleaned/'\n",
    "total_count = 0\n",
    "invalid_count = len(failed_list)\n",
    "valid_count = len(MEI_2_4) + len(MEI_3_4) + len(MEI_C) + len(MEI_5_4) + len(MEI_6_4) + \\\n",
    "            len(MEI_7_4) + len(MEI_3_8) + len(MEI_6_8)\n",
    "# total mei\n",
    "\n",
    "for file in os.listdir(PATH):\n",
    "    if file[-4:] == '.mei':\n",
    "        total_count += 1"
   ]
  },
  {
   "cell_type": "code",
   "execution_count": 20,
   "metadata": {},
   "outputs": [
    {
     "data": {
      "text/plain": [
       "(True, 15029, 129, 14900)"
      ]
     },
     "execution_count": 20,
     "metadata": {},
     "output_type": "execute_result"
    }
   ],
   "source": [
    "(total_count - invalid_count == valid_count), total_count, invalid_count, valid_count   "
   ]
  },
  {
   "cell_type": "code",
   "execution_count": 21,
   "metadata": {},
   "outputs": [],
   "source": [
    "results_2_4 = []\n",
    "for file in MEI_2_4:\n",
    "    with open('/home/ibukey/ttmp/mei-uncleaned/' + file) as f:\n",
    "        t = f.read().split()\n",
    "        results_2_4.append(get_accuracy(t, 2*4))"
   ]
  },
  {
   "cell_type": "code",
   "execution_count": 22,
   "metadata": {},
   "outputs": [
    {
     "name": "stdout",
     "output_type": "stream",
     "text": [
      "[1675, 3079, 0]\n"
     ]
    },
    {
     "data": {
      "text/plain": [
       "0.352334875893984"
      ]
     },
     "execution_count": 22,
     "metadata": {},
     "output_type": "execute_result"
    }
   ],
   "source": [
    "acc_2_4 = [sum(x) for x in zip(*results_2_4)]\n",
    "print(acc_2_4)\n",
    "acc_2_4[0] / (acc_2_4[0] + acc_2_4[1])"
   ]
  },
  {
   "cell_type": "code",
   "execution_count": 25,
   "metadata": {},
   "outputs": [],
   "source": [
    "results_3_4 = []\n",
    "for file in MEI_3_4:\n",
    "    with open('/home/ibukey/ttmp/mei-uncleaned/' + file) as f:\n",
    "        t = f.read().split()\n",
    "        results_3_4.append(get_accuracy(t, 3*4))"
   ]
  },
  {
   "cell_type": "code",
   "execution_count": 26,
   "metadata": {},
   "outputs": [
    {
     "name": "stdout",
     "output_type": "stream",
     "text": [
      "[3469, 1529, 0]\n"
     ]
    },
    {
     "data": {
      "text/plain": [
       "0.6940776310524209"
      ]
     },
     "execution_count": 26,
     "metadata": {},
     "output_type": "execute_result"
    }
   ],
   "source": [
    "acc_3_4 = [sum(x) for x in zip(*results_3_4)]\n",
    "print(acc_3_4)\n",
    "acc_3_4[0] / (acc_3_4[0] + acc_3_4[1])"
   ]
  },
  {
   "cell_type": "code",
   "execution_count": 27,
   "metadata": {},
   "outputs": [],
   "source": [
    "results_C = []\n",
    "for file in MEI_C:\n",
    "    with open('/home/ibukey/ttmp/mei-uncleaned/' + file) as f:\n",
    "        t = f.read().split()\n",
    "        results_C.append(get_accuracy(t, 4*4))"
   ]
  },
  {
   "cell_type": "code",
   "execution_count": 28,
   "metadata": {},
   "outputs": [
    {
     "name": "stdout",
     "output_type": "stream",
     "text": [
      "[3274, 1144, 0]\n"
     ]
    },
    {
     "data": {
      "text/plain": [
       "0.7410593028519692"
      ]
     },
     "execution_count": 28,
     "metadata": {},
     "output_type": "execute_result"
    }
   ],
   "source": [
    "acc_C = [sum(x) for x in zip(*results_C)]\n",
    "print(acc_C)\n",
    "acc_C[0] / (acc_C[0] + acc_C[1])"
   ]
  },
  {
   "cell_type": "code",
   "execution_count": 29,
   "metadata": {},
   "outputs": [],
   "source": [
    "results_5_4 = []\n",
    "for file in MEI_5_4:\n",
    "    with open('/home/ibukey/ttmp/mei-uncleaned/' + file) as f:\n",
    "        t = f.read().split()\n",
    "        results_5_4.append(get_accuracy(t, 5*4))"
   ]
  },
  {
   "cell_type": "code",
   "execution_count": 30,
   "metadata": {},
   "outputs": [
    {
     "name": "stdout",
     "output_type": "stream",
     "text": [
      "[173, 5227, 0]\n"
     ]
    },
    {
     "data": {
      "text/plain": [
       "0.03203703703703704"
      ]
     },
     "execution_count": 30,
     "metadata": {},
     "output_type": "execute_result"
    }
   ],
   "source": [
    "acc_5_4 = [sum(x) for x in zip(*results_5_4)]\n",
    "print(acc_5_4)\n",
    "acc_5_4[0] / (acc_5_4[0] + acc_5_4[1])"
   ]
  },
  {
   "cell_type": "code",
   "execution_count": 31,
   "metadata": {},
   "outputs": [],
   "source": [
    "results_6_4 = []\n",
    "for file in MEI_6_4:\n",
    "    with open('/home/ibukey/ttmp/mei-uncleaned/' + file) as f:\n",
    "        t = f.read().split()\n",
    "        results_6_4.append(get_accuracy(t, 6*4))"
   ]
  },
  {
   "cell_type": "code",
   "execution_count": 32,
   "metadata": {},
   "outputs": [
    {
     "name": "stdout",
     "output_type": "stream",
     "text": [
      "[576, 3722, 0]\n"
     ]
    },
    {
     "data": {
      "text/plain": [
       "0.13401582131223824"
      ]
     },
     "execution_count": 32,
     "metadata": {},
     "output_type": "execute_result"
    }
   ],
   "source": [
    "acc_6_4 = [sum(x) for x in zip(*results_6_4)]\n",
    "print(acc_6_4)\n",
    "acc_6_4[0] / (acc_6_4[0] + acc_6_4[1])"
   ]
  },
  {
   "cell_type": "code",
   "execution_count": 33,
   "metadata": {},
   "outputs": [],
   "source": [
    "results_7_4 = []\n",
    "for file in MEI_7_4:\n",
    "    with open('/home/ibukey/ttmp/mei-uncleaned/' + file) as f:\n",
    "        t = f.read().split()\n",
    "        results_7_4.append(get_accuracy(t, 7*4))"
   ]
  },
  {
   "cell_type": "code",
   "execution_count": 34,
   "metadata": {},
   "outputs": [
    {
     "name": "stdout",
     "output_type": "stream",
     "text": [
      "[132, 5454, 0]\n"
     ]
    },
    {
     "data": {
      "text/plain": [
       "0.023630504833512353"
      ]
     },
     "execution_count": 34,
     "metadata": {},
     "output_type": "execute_result"
    }
   ],
   "source": [
    "acc_7_4 = [sum(x) for x in zip(*results_7_4)]\n",
    "print(acc_7_4)\n",
    "acc_7_4[0] / (acc_7_4[0] + acc_7_4[1])"
   ]
  },
  {
   "cell_type": "code",
   "execution_count": 40,
   "metadata": {},
   "outputs": [],
   "source": [
    "results_3_8 = []\n",
    "for file in MEI_3_8:\n",
    "    with open('/home/ibukey/ttmp/mei-uncleaned/' + file) as f:\n",
    "        t = f.read().split()\n",
    "        results_3_8.append(get_accuracy(t, 3*2))"
   ]
  },
  {
   "cell_type": "code",
   "execution_count": 41,
   "metadata": {},
   "outputs": [
    {
     "name": "stdout",
     "output_type": "stream",
     "text": [
      "[929, 3191, 0]\n"
     ]
    },
    {
     "data": {
      "text/plain": [
       "0.22548543689320388"
      ]
     },
     "execution_count": 41,
     "metadata": {},
     "output_type": "execute_result"
    }
   ],
   "source": [
    "acc_3_8 = [sum(x) for x in zip(*results_3_8)]\n",
    "print(acc_3_8)\n",
    "acc_3_8[0] / (acc_3_8[0] + acc_3_8[1])"
   ]
  },
  {
   "cell_type": "code",
   "execution_count": 42,
   "metadata": {},
   "outputs": [],
   "source": [
    "results_6_8 = []\n",
    "for file in MEI_6_8:\n",
    "    with open('/home/ibukey/ttmp/mei-uncleaned/' + file) as f:\n",
    "        t = f.read().split()\n",
    "        results_6_8.append(get_accuracy(t, 6*2))"
   ]
  },
  {
   "cell_type": "code",
   "execution_count": 43,
   "metadata": {},
   "outputs": [
    {
     "name": "stdout",
     "output_type": "stream",
     "text": [
      "[3532, 822, 0]\n"
     ]
    },
    {
     "data": {
      "text/plain": [
       "0.8112080845199816"
      ]
     },
     "execution_count": 43,
     "metadata": {},
     "output_type": "execute_result"
    }
   ],
   "source": [
    "acc_6_8 = [sum(x) for x in zip(*results_6_8)]\n",
    "print(acc_6_8)\n",
    "acc_6_8[0] / (acc_6_8[0] + acc_6_8[1])"
   ]
  },
  {
   "cell_type": "code",
   "execution_count": 39,
   "metadata": {},
   "outputs": [
    {
     "name": "stdout",
     "output_type": "stream",
     "text": [
      "[13760, 24168, 0]\n"
     ]
    },
    {
     "data": {
      "text/plain": [
       "0.3627926597764185"
      ]
     },
     "execution_count": 39,
     "metadata": {},
     "output_type": "execute_result"
    }
   ],
   "source": [
    "overall = [sum(x) for x in zip(acc_2_4,acc_3_4,acc_C,acc_5_4,acc_6_4,acc_7_4,acc_3_8,acc_6_8)]\n",
    "print(overall)\n",
    "overall[0] / (overall[0] + overall[1])"
   ]
  },
  {
   "cell_type": "code",
   "execution_count": null,
   "metadata": {},
   "outputs": [],
   "source": []
  }
 ],
 "metadata": {
  "kernelspec": {
   "display_name": "Python 3",
   "language": "python",
   "name": "python3"
  },
  "language_info": {
   "codemirror_mode": {
    "name": "ipython",
    "version": 3
   },
   "file_extension": ".py",
   "mimetype": "text/x-python",
   "name": "python",
   "nbconvert_exporter": "python",
   "pygments_lexer": "ipython3",
   "version": "3.7.6"
  }
 },
 "nbformat": 4,
 "nbformat_minor": 5
}
