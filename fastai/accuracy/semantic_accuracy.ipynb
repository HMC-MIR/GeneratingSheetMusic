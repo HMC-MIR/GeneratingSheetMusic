{
 "cells": [
  {
   "cell_type": "code",
   "execution_count": 1,
   "metadata": {},
   "outputs": [],
   "source": [
    "import os\n",
    "from PIL import Image\n",
    "from pathlib import Path\n",
    "from tqdm import tqdm\n",
    "import re"
   ]
  },
  {
   "cell_type": "code",
   "execution_count": 2,
   "metadata": {},
   "outputs": [],
   "source": [
    "def get_accuracy(measures, sixteenths, is_complete):\n",
    "    if is_complete:\n",
    "        last_measure = len(measures)\n",
    "    else:\n",
    "        last_measure = len(measures) - 1\n",
    "\n",
    "    acc = 0\n",
    "    invalid = 0   # dot before note\n",
    "    for i in range(1, last_measure):  # exclude first and, if not complete, last\n",
    "        last_duration = 0\n",
    "        num_sixteenths = 0\n",
    "        gracenote = False\n",
    "        ignore = False\n",
    "        durations = {\"sixty_fourth\": 0.25, \"thirty_second\": 0.5, \"sixteenth\": 1, \"eighth\": 2, \"quarter\": 4, \n",
    "                     \"half\": 8, \"whole\": 16, \"double_whole\": 32, \"quadruple_whole\": 64}\n",
    "        \n",
    "        for word in measures[i].split():\n",
    "            if word in durations.keys():\n",
    "                if not gracenote:\n",
    "                    last_duration = durations[word]\n",
    "                    num_sixteenths += last_duration\n",
    "                else:\n",
    "                    last_duration = 0\n",
    "                    gracenote = False\n",
    "            elif word == \"dot\" and last_duration != 0:\n",
    "                last_duration = last_duration * 0.5\n",
    "                num_sixteenths += last_duration\n",
    "            elif word == \"dotdot\" and last_duration != 0:\n",
    "                last_duration = last_duration * 0.75\n",
    "                num_sixteenths += last_duration\n",
    "            elif (word == \"dot\" or word == \"dotdot\") and last_duration == 0:\n",
    "                invalid += 1\n",
    "                ignore = True\n",
    "                break\n",
    "            elif word == 'gracenote':\n",
    "                gracenote = True\n",
    "                last_duration = 0\n",
    "            elif word[:13] == 'timeSignature':\n",
    "                break\n",
    "            else:\n",
    "                last_duration = 0\n",
    "            \n",
    "        if num_sixteenths == sixteenths:\n",
    "            acc += 1\n",
    "\n",
    "    wrong = last_measure - 1 - (acc + invalid)\n",
    "        \n",
    "    return acc, invalid, wrong"
   ]
  },
  {
   "cell_type": "code",
   "execution_count": 3,
   "metadata": {},
   "outputs": [],
   "source": [
    "def semantic_to_pseudo(contents):\n",
    "    contents = re.sub('\\s+', ' ', contents)\n",
    "    contents = re.sub('-|_', ' ', contents)\n",
    "    contents = re.sub('thirty second', 'thirty_second', contents)\n",
    "    contents = re.sub('sixty fourth', 'sixty_fourth', contents)\n",
    "    contents = re.sub('quadruple whole', 'quadruple_whole', contents)\n",
    "    contents = re.sub('double whole', 'double_whole', contents)\n",
    "    contents = re.sub('clef (\\w+)', r'clef-\\1', contents)\n",
    "    contents = re.sub('keySignature (\\w+)', r'keySignature-\\1', contents)\n",
    "    contents = re.sub('timeSignature (\\w+)', r'timeSignature-\\1', contents)\n",
    "    contents = re.sub('\\.\\.', ' dotdot', contents)\n",
    "    contents = re.sub('\\.', ' dot', contents)\n",
    "    return contents"
   ]
  },
  {
   "cell_type": "markdown",
   "metadata": {},
   "source": [
    "## GPT-2 semantic preds"
   ]
  },
  {
   "cell_type": "markdown",
   "metadata": {},
   "source": [
    "## Final"
   ]
  },
  {
   "cell_type": "code",
   "execution_count": 4,
   "metadata": {},
   "outputs": [],
   "source": [
    "SEM_2_4_PATH = Path('/home/macosta/ttmp/generated-semantic-final/timeSignature-2-4')\n",
    "SEM_3_4_PATH = Path('/home/macosta/ttmp/generated-semantic-final/timeSignature-3-4')\n",
    "SEM_4_4_PATH = Path('/home/macosta/ttmp/generated-semantic-final/timeSignature-C')\n",
    "SEM_5_4_PATH = Path('/home/macosta/ttmp/generated-semantic-final/timeSignature-5-4')\n",
    "SEM_6_4_PATH = Path('/home/macosta/ttmp/generated-semantic-final/timeSignature-6-4')\n",
    "SEM_7_4_PATH = Path('/home/macosta/ttmp/generated-semantic-final/timeSignature-7-4')\n",
    "SEM_3_8_PATH = Path('/home/macosta/ttmp/generated-semantic-final/timeSignature-3-8')\n",
    "SEM_6_8_PATH = Path('/home/macosta/ttmp/generated-semantic-final/timeSignature-6-8')"
   ]
  },
  {
   "cell_type": "code",
   "execution_count": 5,
   "metadata": {},
   "outputs": [
    {
     "name": "stderr",
     "output_type": "stream",
     "text": [
      "100%|█████████████████████████████████████| 2000/2000 [00:00<00:00, 8136.69it/s]\n"
     ]
    }
   ],
   "source": [
    "results_2_4 = []\n",
    "for file in tqdm(os.listdir(SEM_2_4_PATH)):\n",
    "    with open(SEM_2_4_PATH/file) as f:\n",
    "        complete = False\n",
    "        t = f.read()\n",
    "        t = semantic_to_pseudo(t)\n",
    "        if t.split()[-1] == \"barline\":\n",
    "            complete = True\n",
    "        measures = t.split(\"barline\")\n",
    "    results_2_4.append(get_accuracy(measures, 2*4, complete))"
   ]
  },
  {
   "cell_type": "code",
   "execution_count": 6,
   "metadata": {},
   "outputs": [
    {
     "name": "stderr",
     "output_type": "stream",
     "text": [
      "100%|█████████████████████████████████████| 2000/2000 [00:00<00:00, 8411.25it/s]\n"
     ]
    }
   ],
   "source": [
    "results_3_4 = []\n",
    "for file in tqdm(os.listdir(SEM_3_4_PATH)):\n",
    "    with open(SEM_3_4_PATH/file) as f:\n",
    "        complete = False\n",
    "        t = f.read()\n",
    "        t = semantic_to_pseudo(t)\n",
    "        if t.split()[-1] == \"barline\":\n",
    "            complete = True\n",
    "        measures = t.split(\"barline\")\n",
    "    results_3_4.append(get_accuracy(measures, 3*4, complete))"
   ]
  },
  {
   "cell_type": "code",
   "execution_count": 7,
   "metadata": {},
   "outputs": [
    {
     "name": "stderr",
     "output_type": "stream",
     "text": [
      "100%|█████████████████████████████████████| 2000/2000 [00:00<00:00, 7987.88it/s]\n"
     ]
    }
   ],
   "source": [
    "results_4_4 = []\n",
    "for file in tqdm(os.listdir(SEM_4_4_PATH)):\n",
    "    with open(SEM_4_4_PATH/file) as f:\n",
    "        complete = False\n",
    "        t = f.read()\n",
    "        t = semantic_to_pseudo(t)\n",
    "        if t.split()[-1] == \"barline\":\n",
    "            complete = True\n",
    "        measures = t.split(\"barline\")\n",
    "    results_4_4.append(get_accuracy(measures, 4*4, complete))"
   ]
  },
  {
   "cell_type": "code",
   "execution_count": 8,
   "metadata": {},
   "outputs": [
    {
     "name": "stderr",
     "output_type": "stream",
     "text": [
      "100%|█████████████████████████████████████| 2000/2000 [00:00<00:00, 8808.04it/s]\n"
     ]
    }
   ],
   "source": [
    "results_5_4 = []\n",
    "for file in tqdm(os.listdir(SEM_5_4_PATH)):\n",
    "    with open(SEM_5_4_PATH/file) as f:\n",
    "        complete = False\n",
    "        t = f.read()\n",
    "        t = semantic_to_pseudo(t)\n",
    "        if t.split()[-1] == \"barline\":\n",
    "            complete = True\n",
    "        measures = t.split(\"barline\")\n",
    "    results_5_4.append(get_accuracy(measures, 5*4, complete))"
   ]
  },
  {
   "cell_type": "code",
   "execution_count": 9,
   "metadata": {},
   "outputs": [
    {
     "name": "stderr",
     "output_type": "stream",
     "text": [
      "100%|█████████████████████████████████████| 2000/2000 [00:00<00:00, 8979.57it/s]\n"
     ]
    }
   ],
   "source": [
    "results_6_4 = []\n",
    "for file in tqdm(os.listdir(SEM_6_4_PATH)):\n",
    "    with open(SEM_6_4_PATH/file) as f:\n",
    "        complete = False\n",
    "        t = f.read()\n",
    "        t = semantic_to_pseudo(t)\n",
    "        if t.split()[-1] == \"barline\":\n",
    "            complete = True\n",
    "        measures = t.split(\"barline\")\n",
    "    results_6_4.append(get_accuracy(measures, 6*4, complete))"
   ]
  },
  {
   "cell_type": "code",
   "execution_count": 10,
   "metadata": {},
   "outputs": [
    {
     "name": "stderr",
     "output_type": "stream",
     "text": [
      "100%|█████████████████████████████████████| 2000/2000 [00:00<00:00, 9097.45it/s]\n"
     ]
    }
   ],
   "source": [
    "results_7_4 = []\n",
    "for file in tqdm(os.listdir(SEM_7_4_PATH)):\n",
    "    with open(SEM_7_4_PATH/file) as f:\n",
    "        complete = False\n",
    "        t = f.read()\n",
    "        t = semantic_to_pseudo(t)\n",
    "        if t.split()[-1] == \"barline\":\n",
    "            complete = True\n",
    "        measures = t.split(\"barline\")\n",
    "    results_7_4.append(get_accuracy(measures, 7*4, complete))"
   ]
  },
  {
   "cell_type": "code",
   "execution_count": 11,
   "metadata": {},
   "outputs": [
    {
     "name": "stderr",
     "output_type": "stream",
     "text": [
      "100%|█████████████████████████████████████| 2000/2000 [00:00<00:00, 8258.62it/s]\n"
     ]
    }
   ],
   "source": [
    "results_3_8 = []\n",
    "for file in tqdm(os.listdir(SEM_3_8_PATH)):\n",
    "    with open(SEM_3_8_PATH/file) as f:\n",
    "        complete = False\n",
    "        t = f.read()\n",
    "        t = semantic_to_pseudo(t)\n",
    "        if t.split()[-1] == \"barline\":\n",
    "            complete = True\n",
    "        measures = t.split(\"barline\")\n",
    "    results_3_8.append(get_accuracy(measures, 3*2, complete))"
   ]
  },
  {
   "cell_type": "code",
   "execution_count": 12,
   "metadata": {},
   "outputs": [
    {
     "name": "stderr",
     "output_type": "stream",
     "text": [
      "100%|█████████████████████████████████████| 2000/2000 [00:00<00:00, 7060.11it/s]\n"
     ]
    }
   ],
   "source": [
    "results_6_8 = []\n",
    "for file in tqdm(os.listdir(SEM_6_8_PATH)):\n",
    "    with open(SEM_6_8_PATH/file) as f:\n",
    "        complete = False\n",
    "        t = f.read()\n",
    "        t = semantic_to_pseudo(t)\n",
    "        if t.split()[-1] == \"barline\":\n",
    "            complete = True\n",
    "        measures = t.split(\"barline\")\n",
    "    results_6_8.append(get_accuracy(measures, 6*2, complete))"
   ]
  },
  {
   "cell_type": "code",
   "execution_count": 13,
   "metadata": {},
   "outputs": [
    {
     "name": "stdout",
     "output_type": "stream",
     "text": [
      "[7111, 2, 1681]\n"
     ]
    },
    {
     "data": {
      "text/plain": [
       "0.808803457688808"
      ]
     },
     "execution_count": 13,
     "metadata": {},
     "output_type": "execute_result"
    }
   ],
   "source": [
    "acc_2_4 = [sum(x) for x in zip(*results_2_4)]\n",
    "print(acc_2_4)\n",
    "acc_2_4[0] / (acc_2_4[0] + acc_2_4[-1])"
   ]
  },
  {
   "cell_type": "code",
   "execution_count": 14,
   "metadata": {},
   "outputs": [
    {
     "name": "stdout",
     "output_type": "stream",
     "text": [
      "[6503, 5, 1683]\n"
     ]
    },
    {
     "data": {
      "text/plain": [
       "0.7944050818470559"
      ]
     },
     "execution_count": 14,
     "metadata": {},
     "output_type": "execute_result"
    }
   ],
   "source": [
    "acc_3_4 = [sum(x) for x in zip(*results_3_4)]\n",
    "print(acc_3_4)\n",
    "acc_3_4[0] / (acc_3_4[0] + acc_3_4[-1])"
   ]
  },
  {
   "cell_type": "code",
   "execution_count": 15,
   "metadata": {},
   "outputs": [
    {
     "name": "stdout",
     "output_type": "stream",
     "text": [
      "[4622, 1, 1313]\n"
     ]
    },
    {
     "data": {
      "text/plain": [
       "0.7787700084245999"
      ]
     },
     "execution_count": 15,
     "metadata": {},
     "output_type": "execute_result"
    }
   ],
   "source": [
    "acc_4_4 = [sum(x) for x in zip(*results_4_4)]\n",
    "print(acc_4_4)\n",
    "acc_4_4[0] / (acc_4_4[0] + acc_4_4[-1])"
   ]
  },
  {
   "cell_type": "code",
   "execution_count": 16,
   "metadata": {},
   "outputs": [
    {
     "name": "stdout",
     "output_type": "stream",
     "text": [
      "[1851, 3, 3422]\n"
     ]
    },
    {
     "data": {
      "text/plain": [
       "0.35103356722928125"
      ]
     },
     "execution_count": 16,
     "metadata": {},
     "output_type": "execute_result"
    }
   ],
   "source": [
    "acc_5_4 = [sum(x) for x in zip(*results_5_4)]\n",
    "print(acc_5_4)\n",
    "acc_5_4[0] / (acc_5_4[0] + acc_5_4[-1])"
   ]
  },
  {
   "cell_type": "code",
   "execution_count": 17,
   "metadata": {},
   "outputs": [
    {
     "name": "stdout",
     "output_type": "stream",
     "text": [
      "[4275, 2, 1276]\n"
     ]
    },
    {
     "data": {
      "text/plain": [
       "0.7701315078364259"
      ]
     },
     "execution_count": 17,
     "metadata": {},
     "output_type": "execute_result"
    }
   ],
   "source": [
    "acc_6_4 = [sum(x) for x in zip(*results_6_4)]\n",
    "print(acc_6_4)\n",
    "acc_6_4[0] / (acc_6_4[0] + acc_6_4[-1])"
   ]
  },
  {
   "cell_type": "code",
   "execution_count": 18,
   "metadata": {},
   "outputs": [
    {
     "name": "stdout",
     "output_type": "stream",
     "text": [
      "[21, 0, 5926]\n"
     ]
    },
    {
     "data": {
      "text/plain": [
       "0.0035311921977467632"
      ]
     },
     "execution_count": 18,
     "metadata": {},
     "output_type": "execute_result"
    }
   ],
   "source": [
    "acc_7_4 = [sum(x) for x in zip(*results_7_4)]\n",
    "print(acc_7_4)\n",
    "acc_7_4[0] / (acc_7_4[0] + acc_7_4[-1])"
   ]
  },
  {
   "cell_type": "code",
   "execution_count": 19,
   "metadata": {},
   "outputs": [
    {
     "name": "stdout",
     "output_type": "stream",
     "text": [
      "[7753, 6, 2310]\n"
     ]
    },
    {
     "data": {
      "text/plain": [
       "0.7704461890092418"
      ]
     },
     "execution_count": 19,
     "metadata": {},
     "output_type": "execute_result"
    }
   ],
   "source": [
    "acc_3_8 = [sum(x) for x in zip(*results_3_8)]\n",
    "print(acc_3_8)\n",
    "acc_3_8[0] / (acc_3_8[0] + acc_3_8[-1])"
   ]
  },
  {
   "cell_type": "code",
   "execution_count": 20,
   "metadata": {},
   "outputs": [
    {
     "name": "stdout",
     "output_type": "stream",
     "text": [
      "[5531, 1, 1771]\n"
     ]
    },
    {
     "data": {
      "text/plain": [
       "0.7574637085729937"
      ]
     },
     "execution_count": 20,
     "metadata": {},
     "output_type": "execute_result"
    }
   ],
   "source": [
    "acc_6_8 = [sum(x) for x in zip(*results_6_8)]\n",
    "print(acc_6_8)\n",
    "acc_6_8[0] / (acc_6_8[0] + acc_6_8[-1])"
   ]
  },
  {
   "cell_type": "code",
   "execution_count": 21,
   "metadata": {},
   "outputs": [
    {
     "name": "stdout",
     "output_type": "stream",
     "text": [
      "[37667, 20, 19382]\n"
     ]
    },
    {
     "data": {
      "text/plain": [
       "0.6602569720766359"
      ]
     },
     "execution_count": 21,
     "metadata": {},
     "output_type": "execute_result"
    }
   ],
   "source": [
    "overall = [sum(x) for x in zip(acc_2_4,acc_3_4,acc_4_4,acc_5_4,acc_6_4,acc_7_4,acc_3_8,acc_6_8)]\n",
    "print(overall)\n",
    "overall[0] / (overall[0] + overall[-1])"
   ]
  },
  {
   "cell_type": "markdown",
   "metadata": {},
   "source": [
    "## AWD-LSTM semantic preds"
   ]
  },
  {
   "cell_type": "markdown",
   "metadata": {},
   "source": [
    "## Final"
   ]
  },
  {
   "cell_type": "code",
   "execution_count": 22,
   "metadata": {},
   "outputs": [],
   "source": [
    "SEM_2_4_PATH = Path('/home/ibukey/ttmp/semantic-nonrhythmic-preds/2_4')\n",
    "SEM_3_4_PATH = Path('/home/ibukey/ttmp/semantic-nonrhythmic-preds/3_4')\n",
    "SEM_4_4_PATH = Path('/home/ibukey/ttmp/semantic-nonrhythmic-preds/C')\n",
    "SEM_5_4_PATH = Path('/home/ibukey/ttmp/semantic-nonrhythmic-preds/5_4')\n",
    "SEM_6_4_PATH = Path('/home/ibukey/ttmp/semantic-nonrhythmic-preds/6_4')\n",
    "SEM_7_4_PATH = Path('/home/ibukey/ttmp/semantic-nonrhythmic-preds/7_4')\n",
    "SEM_3_8_PATH = Path('/home/ibukey/ttmp/semantic-nonrhythmic-preds/3_8')\n",
    "SEM_6_8_PATH = Path('/home/ibukey/ttmp/semantic-nonrhythmic-preds/6_8')"
   ]
  },
  {
   "cell_type": "code",
   "execution_count": 23,
   "metadata": {},
   "outputs": [
    {
     "name": "stderr",
     "output_type": "stream",
     "text": [
      "100%|████████████████████████████████████| 2000/2000 [00:00<00:00, 20879.81it/s]\n"
     ]
    }
   ],
   "source": [
    "results_2_4 = []\n",
    "for file in tqdm(os.listdir(SEM_2_4_PATH)):\n",
    "    with open(SEM_2_4_PATH/file) as f:\n",
    "        complete = False\n",
    "        t = f.read()\n",
    "        if t.split()[-1] == \"barline\":\n",
    "            complete = True\n",
    "        measures = t.split(\"barline\")\n",
    "    results_2_4.append(get_accuracy(measures, 2*4, complete))"
   ]
  },
  {
   "cell_type": "code",
   "execution_count": 24,
   "metadata": {},
   "outputs": [
    {
     "name": "stderr",
     "output_type": "stream",
     "text": [
      "100%|████████████████████████████████████| 2000/2000 [00:00<00:00, 20795.02it/s]\n"
     ]
    }
   ],
   "source": [
    "results_3_4 = []\n",
    "for file in tqdm(os.listdir(SEM_3_4_PATH)):\n",
    "    with open(SEM_3_4_PATH/file) as f:\n",
    "        complete = False\n",
    "        t = f.read()\n",
    "        if t.split()[-1] == \"barline\":\n",
    "            complete = True\n",
    "        measures = t.split(\"barline\")\n",
    "    results_3_4.append(get_accuracy(measures, 3*4, complete))"
   ]
  },
  {
   "cell_type": "code",
   "execution_count": 25,
   "metadata": {},
   "outputs": [
    {
     "name": "stderr",
     "output_type": "stream",
     "text": [
      "100%|████████████████████████████████████| 2000/2000 [00:00<00:00, 22932.91it/s]\n"
     ]
    }
   ],
   "source": [
    "results_4_4 = []\n",
    "for file in tqdm(os.listdir(SEM_4_4_PATH)):\n",
    "    with open(SEM_4_4_PATH/file) as f:\n",
    "        complete = False\n",
    "        t = f.read()\n",
    "        if t.split()[-1] == \"barline\":\n",
    "            complete = True\n",
    "        measures = t.split(\"barline\")\n",
    "    results_4_4.append(get_accuracy(measures, 4*4, complete))"
   ]
  },
  {
   "cell_type": "code",
   "execution_count": 26,
   "metadata": {},
   "outputs": [
    {
     "name": "stderr",
     "output_type": "stream",
     "text": [
      "100%|████████████████████████████████████| 2000/2000 [00:00<00:00, 11587.72it/s]\n"
     ]
    }
   ],
   "source": [
    "results_5_4 = []\n",
    "for file in tqdm(os.listdir(SEM_5_4_PATH)):\n",
    "    with open(SEM_5_4_PATH/file) as f:\n",
    "        complete = False\n",
    "        t = f.read()\n",
    "        if t.split()[-1] == \"barline\":\n",
    "            complete = True\n",
    "        measures = t.split(\"barline\")\n",
    "    results_5_4.append(get_accuracy(measures, 5*4, complete))"
   ]
  },
  {
   "cell_type": "code",
   "execution_count": 27,
   "metadata": {},
   "outputs": [
    {
     "name": "stderr",
     "output_type": "stream",
     "text": [
      "100%|████████████████████████████████████| 2000/2000 [00:00<00:00, 22400.92it/s]\n"
     ]
    }
   ],
   "source": [
    "results_6_4 = []\n",
    "for file in tqdm(os.listdir(SEM_6_4_PATH)):\n",
    "    with open(SEM_6_4_PATH/file) as f:\n",
    "        complete = False\n",
    "        t = f.read()\n",
    "        if t.split()[-1] == \"barline\":\n",
    "            complete = True\n",
    "        measures = t.split(\"barline\")\n",
    "    results_6_4.append(get_accuracy(measures, 6*4, complete))"
   ]
  },
  {
   "cell_type": "code",
   "execution_count": 28,
   "metadata": {},
   "outputs": [
    {
     "name": "stderr",
     "output_type": "stream",
     "text": [
      "100%|████████████████████████████████████| 2000/2000 [00:00<00:00, 22353.23it/s]\n"
     ]
    }
   ],
   "source": [
    "results_7_4 = []\n",
    "for file in tqdm(os.listdir(SEM_7_4_PATH)):\n",
    "    with open(SEM_7_4_PATH/file) as f:\n",
    "        complete = False\n",
    "        t = f.read()\n",
    "        if t.split()[-1] == \"barline\":\n",
    "            complete = True\n",
    "        measures = t.split(\"barline\")\n",
    "    results_7_4.append(get_accuracy(measures, 7*4, complete))"
   ]
  },
  {
   "cell_type": "code",
   "execution_count": 29,
   "metadata": {},
   "outputs": [
    {
     "name": "stderr",
     "output_type": "stream",
     "text": [
      "100%|████████████████████████████████████| 2000/2000 [00:00<00:00, 20816.64it/s]\n"
     ]
    }
   ],
   "source": [
    "results_3_8 = []\n",
    "for file in tqdm(os.listdir(SEM_3_8_PATH)):\n",
    "    with open(SEM_3_8_PATH/file) as f:\n",
    "        complete = False\n",
    "        t = f.read()\n",
    "        if t.split()[-1] == \"barline\":\n",
    "            complete = True\n",
    "        measures = t.split(\"barline\")\n",
    "    results_3_8.append(get_accuracy(measures, 3*2, complete))"
   ]
  },
  {
   "cell_type": "code",
   "execution_count": 30,
   "metadata": {},
   "outputs": [
    {
     "name": "stderr",
     "output_type": "stream",
     "text": [
      "100%|████████████████████████████████████| 2000/2000 [00:00<00:00, 21524.70it/s]\n"
     ]
    }
   ],
   "source": [
    "results_6_8 = []\n",
    "for file in tqdm(os.listdir(SEM_6_8_PATH)):\n",
    "    with open(SEM_6_8_PATH/file) as f:\n",
    "        complete = False\n",
    "        t = f.read()\n",
    "        if t.split()[-1] == \"barline\":\n",
    "            complete = True\n",
    "        measures = t.split(\"barline\")\n",
    "    results_6_8.append(get_accuracy(measures, 6*2, complete))"
   ]
  },
  {
   "cell_type": "code",
   "execution_count": 31,
   "metadata": {},
   "outputs": [
    {
     "name": "stdout",
     "output_type": "stream",
     "text": [
      "[4373, 1, 1446]\n"
     ]
    },
    {
     "data": {
      "text/plain": [
       "0.7515036947929198"
      ]
     },
     "execution_count": 31,
     "metadata": {},
     "output_type": "execute_result"
    }
   ],
   "source": [
    "acc_2_4 = [sum(x) for x in zip(*results_2_4)]\n",
    "print(acc_2_4)\n",
    "acc_2_4[0] / (acc_2_4[0] + acc_2_4[-1])"
   ]
  },
  {
   "cell_type": "code",
   "execution_count": 32,
   "metadata": {},
   "outputs": [
    {
     "name": "stdout",
     "output_type": "stream",
     "text": [
      "[4954, 1, 1274]\n"
     ]
    },
    {
     "data": {
      "text/plain": [
       "0.7954399486191394"
      ]
     },
     "execution_count": 32,
     "metadata": {},
     "output_type": "execute_result"
    }
   ],
   "source": [
    "acc_3_4 = [sum(x) for x in zip(*results_3_4)]\n",
    "print(acc_3_4)\n",
    "acc_3_4[0] / (acc_3_4[0] + acc_3_4[-1])"
   ]
  },
  {
   "cell_type": "code",
   "execution_count": 33,
   "metadata": {},
   "outputs": [
    {
     "name": "stdout",
     "output_type": "stream",
     "text": [
      "[3187, 1, 921]\n"
     ]
    },
    {
     "data": {
      "text/plain": [
       "0.7758033106134372"
      ]
     },
     "execution_count": 33,
     "metadata": {},
     "output_type": "execute_result"
    }
   ],
   "source": [
    "acc_4_4 = [sum(x) for x in zip(*results_4_4)]\n",
    "print(acc_4_4)\n",
    "acc_4_4[0] / (acc_4_4[0] + acc_4_4[-1])"
   ]
  },
  {
   "cell_type": "code",
   "execution_count": 34,
   "metadata": {},
   "outputs": [
    {
     "name": "stdout",
     "output_type": "stream",
     "text": [
      "[11, 1, 3750]\n"
     ]
    },
    {
     "data": {
      "text/plain": [
       "0.0029247540547726668"
      ]
     },
     "execution_count": 34,
     "metadata": {},
     "output_type": "execute_result"
    }
   ],
   "source": [
    "acc_5_4 = [sum(x) for x in zip(*results_5_4)]\n",
    "print(acc_5_4)\n",
    "acc_5_4[0] / (acc_5_4[0] + acc_5_4[-1])"
   ]
  },
  {
   "cell_type": "code",
   "execution_count": 35,
   "metadata": {},
   "outputs": [
    {
     "name": "stdout",
     "output_type": "stream",
     "text": [
      "[2563, 1, 1076]\n"
     ]
    },
    {
     "data": {
      "text/plain": [
       "0.7043143720802418"
      ]
     },
     "execution_count": 35,
     "metadata": {},
     "output_type": "execute_result"
    }
   ],
   "source": [
    "acc_6_4 = [sum(x) for x in zip(*results_6_4)]\n",
    "print(acc_6_4)\n",
    "acc_6_4[0] / (acc_6_4[0] + acc_6_4[-1])"
   ]
  },
  {
   "cell_type": "code",
   "execution_count": 36,
   "metadata": {},
   "outputs": [
    {
     "name": "stdout",
     "output_type": "stream",
     "text": [
      "[2, 1, 3778]\n"
     ]
    },
    {
     "data": {
      "text/plain": [
       "0.0005291005291005291"
      ]
     },
     "execution_count": 36,
     "metadata": {},
     "output_type": "execute_result"
    }
   ],
   "source": [
    "acc_7_4 = [sum(x) for x in zip(*results_7_4)]\n",
    "print(acc_7_4)\n",
    "acc_7_4[0] / (acc_7_4[0] + acc_7_4[-1])"
   ]
  },
  {
   "cell_type": "code",
   "execution_count": 37,
   "metadata": {},
   "outputs": [
    {
     "name": "stdout",
     "output_type": "stream",
     "text": [
      "[5523, 1, 1567]\n"
     ]
    },
    {
     "data": {
      "text/plain": [
       "0.7789844851904091"
      ]
     },
     "execution_count": 37,
     "metadata": {},
     "output_type": "execute_result"
    }
   ],
   "source": [
    "acc_3_8 = [sum(x) for x in zip(*results_3_8)]\n",
    "print(acc_3_8)\n",
    "acc_3_8[0] / (acc_3_8[0] + acc_3_8[-1])"
   ]
  },
  {
   "cell_type": "code",
   "execution_count": 38,
   "metadata": {},
   "outputs": [
    {
     "name": "stdout",
     "output_type": "stream",
     "text": [
      "[3283, 2, 1049]\n"
     ]
    },
    {
     "data": {
      "text/plain": [
       "0.7578485687903971"
      ]
     },
     "execution_count": 38,
     "metadata": {},
     "output_type": "execute_result"
    }
   ],
   "source": [
    "acc_6_8 = [sum(x) for x in zip(*results_6_8)]\n",
    "print(acc_6_8)\n",
    "acc_6_8[0] / (acc_6_8[0] + acc_6_8[-1])"
   ]
  },
  {
   "cell_type": "code",
   "execution_count": 39,
   "metadata": {},
   "outputs": [
    {
     "name": "stdout",
     "output_type": "stream",
     "text": [
      "[23896, 9, 14861]\n"
     ]
    },
    {
     "data": {
      "text/plain": [
       "0.6165595892354929"
      ]
     },
     "execution_count": 39,
     "metadata": {},
     "output_type": "execute_result"
    }
   ],
   "source": [
    "overall = [sum(x) for x in zip(acc_2_4,acc_3_4,acc_4_4,acc_5_4,acc_6_4,acc_7_4,acc_3_8,acc_6_8)]\n",
    "print(overall)\n",
    "overall[0] / (overall[0] + overall[-1])"
   ]
  }
 ],
 "metadata": {
  "kernelspec": {
   "display_name": "Python 3",
   "language": "python",
   "name": "python3"
  },
  "language_info": {
   "codemirror_mode": {
    "name": "ipython",
    "version": 3
   },
   "file_extension": ".py",
   "mimetype": "text/x-python",
   "name": "python",
   "nbconvert_exporter": "python",
   "pygments_lexer": "ipython3",
   "version": "3.7.6"
  }
 },
 "nbformat": 4,
 "nbformat_minor": 5
}
