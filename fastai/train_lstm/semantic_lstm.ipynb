{
 "cells": [
  {
   "cell_type": "code",
   "execution_count": 23,
   "metadata": {},
   "outputs": [],
   "source": [
    "import fastai\n",
    "from fastai.text.all import *\n",
    "import os\n",
    "from PIL import Image\n",
    "from pathlib import Path\n",
    "import numpy as np\n",
    "import seaborn as sns\n",
    "from tqdm import tqdm\n",
    "from matplotlib import pyplot as plt\n",
    "import pickle\n",
    "from collections import Counter\n",
    "from seaborn import barplot\n",
    "import shutil"
   ]
  },
  {
   "cell_type": "code",
   "execution_count": 24,
   "metadata": {},
   "outputs": [],
   "source": [
    "PRIMUS_DIR = Path('/home/macosta/ttmp/primus-data/primus-semantic/semantic-cleaned')\n",
    "SEMANTIC_DIR = Path('/home/ibukey/ttmp/primus-semantic/')"
   ]
  },
  {
   "cell_type": "code",
   "execution_count": 25,
   "metadata": {},
   "outputs": [
    {
     "name": "stderr",
     "output_type": "stream",
     "text": [
      "100%|███████████████████████████████████| 87678/87678 [00:09<00:00, 9582.31it/s]\n"
     ]
    }
   ],
   "source": [
    "# create txt files from agnostic\n",
    "indir = PRIMUS_DIR\n",
    "SEMANTIC_TXT_END = Path('/home/ibukey/ttmp/primus-semantic-txt-end/')\n",
    "\n",
    "SEMANTIC_TXT_END.mkdir(exist_ok=True)\n",
    "\n",
    "for file in tqdm(os.listdir(indir)):\n",
    "    with open(indir/file,'r') as f:\n",
    "        words = f.read().split()\n",
    "    outfile = SEMANTIC_TXT_END / (file[:-9]+'.txt')\n",
    "    with open(outfile,'w') as fout:\n",
    "        word_lst = [\"<start>\"]\n",
    "        word_lst.extend([word for word in words])\n",
    "        word_lst.append(\"<end>\")\n",
    "        fout.writelines([word + ' ' for word in word_lst])"
   ]
  },
  {
   "cell_type": "code",
   "execution_count": 26,
   "metadata": {},
   "outputs": [
    {
     "data": {
      "text/plain": [
       "87679"
      ]
     },
     "execution_count": 26,
     "metadata": {},
     "output_type": "execute_result"
    }
   ],
   "source": [
    "len(os.listdir(SEMANTIC_TXT_END))"
   ]
  },
  {
   "cell_type": "code",
   "execution_count": 27,
   "metadata": {},
   "outputs": [],
   "source": [
    "SEMANTIC_TXT_END = Path('/home/ibukey/ttmp/primus-semantic-txt-end/')"
   ]
  },
  {
   "cell_type": "code",
   "execution_count": 28,
   "metadata": {},
   "outputs": [],
   "source": [
    "whitespace_tokenizer = BaseTokenizer()"
   ]
  },
  {
   "cell_type": "code",
   "execution_count": 29,
   "metadata": {},
   "outputs": [
    {
     "name": "stdout",
     "output_type": "stream",
     "text": [
      "Rules: []\n"
     ]
    }
   ],
   "source": [
    "data_loader = TextDataLoaders.from_folder(\n",
    "    path=SEMANTIC_TXT_END, \n",
    "    is_lm=True, valid_pct=0.1, \n",
    "    tok_tfm=whitespace_tokenizer)"
   ]
  },
  {
   "cell_type": "code",
   "execution_count": 30,
   "metadata": {},
   "outputs": [
    {
     "data": {
      "text/plain": [
       "400"
      ]
     },
     "execution_count": 30,
     "metadata": {},
     "output_type": "execute_result"
    }
   ],
   "source": [
    "len(data_loader.vocab)"
   ]
  },
  {
   "cell_type": "code",
   "execution_count": 31,
   "metadata": {},
   "outputs": [],
   "source": [
    "learn = language_model_learner(\n",
    "    data_loader, \n",
    "    AWD_LSTM, \n",
    "    metrics=[accuracy, Perplexity()], \n",
    "    path=str(SEMANTIC_TXT_END), \n",
    "    pretrained=False,\n",
    "    wd=0.1).to_fp16()"
   ]
  },
  {
   "cell_type": "code",
   "execution_count": 32,
   "metadata": {},
   "outputs": [
    {
     "data": {
      "text/html": [],
      "text/plain": [
       "<IPython.core.display.HTML object>"
      ]
     },
     "metadata": {},
     "output_type": "display_data"
    },
    {
     "data": {
      "text/plain": [
       "SuggestedLRs(valley=0.0003311311302240938)"
      ]
     },
     "execution_count": 32,
     "metadata": {},
     "output_type": "execute_result"
    },
    {
     "data": {
      "image/png": "[encoded data removed]",
      "text/plain": [
       "<Figure size 432x288 with 1 Axes>"
      ]
     },
     "metadata": {
      "needs_background": "light"
     },
     "output_type": "display_data"
    }
   ],
   "source": [
    "learn.lr_find()"
   ]
  },
  {
   "cell_type": "code",
   "execution_count": 33,
   "metadata": {},
   "outputs": [],
   "source": [
    "lr = 3e-4"
   ]
  },
  {
   "cell_type": "code",
   "execution_count": 34,
   "metadata": {},
   "outputs": [
    {
     "data": {
      "text/html": [
       "<table border=\"1\" class=\"dataframe\">\n",
       "  <thead>\n",
       "    <tr style=\"text-align: left;\">\n",
       "      <th>epoch</th>\n",
       "      <th>train_loss</th>\n",
       "      <th>valid_loss</th>\n",
       "      <th>accuracy</th>\n",
       "      <th>perplexity</th>\n",
       "      <th>time</th>\n",
       "    </tr>\n",
       "  </thead>\n",
       "  <tbody>\n",
       "    <tr>\n",
       "      <td>0</td>\n",
       "      <td>1.674785</td>\n",
       "      <td>1.594017</td>\n",
       "      <td>0.514160</td>\n",
       "      <td>4.923489</td>\n",
       "      <td>02:26</td>\n",
       "    </tr>\n",
       "  </tbody>\n",
       "</table>"
      ],
      "text/plain": [
       "<IPython.core.display.HTML object>"
      ]
     },
     "metadata": {},
     "output_type": "display_data"
    }
   ],
   "source": [
    "learn.fit_one_cycle(1, lr)"
   ]
  },
  {
   "cell_type": "code",
   "execution_count": 35,
   "metadata": {},
   "outputs": [
    {
     "data": {
      "text/html": [
       "<table border=\"1\" class=\"dataframe\">\n",
       "  <thead>\n",
       "    <tr style=\"text-align: left;\">\n",
       "      <th>epoch</th>\n",
       "      <th>train_loss</th>\n",
       "      <th>valid_loss</th>\n",
       "      <th>accuracy</th>\n",
       "      <th>perplexity</th>\n",
       "      <th>time</th>\n",
       "    </tr>\n",
       "  </thead>\n",
       "  <tbody>\n",
       "    <tr>\n",
       "      <td>0</td>\n",
       "      <td>1.557555</td>\n",
       "      <td>1.506489</td>\n",
       "      <td>0.533275</td>\n",
       "      <td>4.510867</td>\n",
       "      <td>02:28</td>\n",
       "    </tr>\n",
       "    <tr>\n",
       "      <td>1</td>\n",
       "      <td>1.356158</td>\n",
       "      <td>1.271829</td>\n",
       "      <td>0.593551</td>\n",
       "      <td>3.567372</td>\n",
       "      <td>02:19</td>\n",
       "    </tr>\n",
       "    <tr>\n",
       "      <td>2</td>\n",
       "      <td>1.122602</td>\n",
       "      <td>1.081846</td>\n",
       "      <td>0.622145</td>\n",
       "      <td>2.950120</td>\n",
       "      <td>02:16</td>\n",
       "    </tr>\n",
       "    <tr>\n",
       "      <td>3</td>\n",
       "      <td>1.054501</td>\n",
       "      <td>1.012291</td>\n",
       "      <td>0.644322</td>\n",
       "      <td>2.751899</td>\n",
       "      <td>02:25</td>\n",
       "    </tr>\n",
       "    <tr>\n",
       "      <td>4</td>\n",
       "      <td>1.018776</td>\n",
       "      <td>0.977713</td>\n",
       "      <td>0.659421</td>\n",
       "      <td>2.658370</td>\n",
       "      <td>02:27</td>\n",
       "    </tr>\n",
       "    <tr>\n",
       "      <td>5</td>\n",
       "      <td>0.981131</td>\n",
       "      <td>0.952669</td>\n",
       "      <td>0.669326</td>\n",
       "      <td>2.592621</td>\n",
       "      <td>02:24</td>\n",
       "    </tr>\n",
       "    <tr>\n",
       "      <td>6</td>\n",
       "      <td>0.968357</td>\n",
       "      <td>0.936318</td>\n",
       "      <td>0.675547</td>\n",
       "      <td>2.550574</td>\n",
       "      <td>02:19</td>\n",
       "    </tr>\n",
       "    <tr>\n",
       "      <td>7</td>\n",
       "      <td>0.956751</td>\n",
       "      <td>0.926599</td>\n",
       "      <td>0.679070</td>\n",
       "      <td>2.525904</td>\n",
       "      <td>02:16</td>\n",
       "    </tr>\n",
       "    <tr>\n",
       "      <td>8</td>\n",
       "      <td>0.953098</td>\n",
       "      <td>0.922181</td>\n",
       "      <td>0.680621</td>\n",
       "      <td>2.514769</td>\n",
       "      <td>02:20</td>\n",
       "    </tr>\n",
       "    <tr>\n",
       "      <td>9</td>\n",
       "      <td>0.956091</td>\n",
       "      <td>0.921476</td>\n",
       "      <td>0.680880</td>\n",
       "      <td>2.512997</td>\n",
       "      <td>02:16</td>\n",
       "    </tr>\n",
       "  </tbody>\n",
       "</table>"
      ],
      "text/plain": [
       "<IPython.core.display.HTML object>"
      ]
     },
     "metadata": {},
     "output_type": "display_data"
    }
   ],
   "source": [
    "learn.unfreeze()\n",
    "learn.fit_one_cycle(10, lr)"
   ]
  },
  {
   "cell_type": "code",
   "execution_count": 36,
   "metadata": {},
   "outputs": [
    {
     "data": {
      "text/plain": [
       "Path('/home/ibukey/ttmp/primus-semantic-txt-end/models/semantic-model.pth')"
      ]
     },
     "execution_count": 36,
     "metadata": {},
     "output_type": "execute_result"
    }
   ],
   "source": [
    "learn.save('semantic-model')"
   ]
  },
  {
   "cell_type": "code",
   "execution_count": 88,
   "metadata": {},
   "outputs": [],
   "source": [
    "SEED = '<start> clef-F4 keySignature-GM timeSignature-3/4'"
   ]
  },
  {
   "cell_type": "code",
   "execution_count": 90,
   "metadata": {},
   "outputs": [
    {
     "data": {
      "text/html": [],
      "text/plain": [
       "<IPython.core.display.HTML object>"
      ]
     },
     "metadata": {},
     "output_type": "display_data"
    },
    {
     "data": {
      "text/plain": [
       "'<start> clef-F4 keySignature-GM timeSignature-3/4 note G3 quarter note A3 quarter note B3 quarter barline note B3 quarter tie note A3 eighth note G3 eighth note G3 quarter barline note G3 quarter note F#3 quarter note G3 quarter barline note F#3 half rest quarter barline <end>  <start> clef-G2 timeSignature-C note C5 whole tie barline note C5 quarter rest quarter rest half barline note C5'"
      ]
     },
     "execution_count": 90,
     "metadata": {},
     "output_type": "execute_result"
    }
   ],
   "source": [
    "learn.predict(SEED, 60, temperature=.8, no_unk=True)"
   ]
  },
  {
   "cell_type": "markdown",
   "metadata": {},
   "source": [
    "## Semantic to PAE"
   ]
  },
  {
   "cell_type": "code",
   "execution_count": 93,
   "metadata": {},
   "outputs": [],
   "source": [
    "# Remove <start>, <end> before conversion\n",
    "\n",
    "#keySignature-BbM\n",
    "# make string without start/end tokens\n",
    "pred = \"clef-F4 keySignature-GM timeSignature-3/4 note-G3_quarter note-A3_quarter note-B3_quarter barline note-B3_quarter tie note-B3_eighth note-G3_eighth note-G3_quarter barline note-G3_quarter note-F#3_quarter note-G3_quarter barline note-F#3_half rest-quarter barline\"\n",
    "\n"
   ]
  },
  {
   "cell_type": "code",
   "execution_count": 38,
   "metadata": {},
   "outputs": [],
   "source": [
    "import sys\n",
    "sys.path.insert(1, '/home/macosta/primus-code')\n",
    "from semantic_to_pae import convert_and_save, pseudo_semantic_to_semantic"
   ]
  },
  {
   "cell_type": "code",
   "execution_count": null,
   "metadata": {},
   "outputs": [],
   "source": [
    "convert_and_save(pred, \"pred8.json\")"
   ]
  },
  {
   "cell_type": "code",
   "execution_count": 95,
   "metadata": {},
   "outputs": [
    {
     "data": {
      "image/png": "[encoded data removed]",
      "text/plain": [
       "<PIL.PngImagePlugin.PngImageFile image mode=RGBA size=2100x280 at 0x7F94D53E2D10>"
      ]
     },
     "execution_count": 95,
     "metadata": {},
     "output_type": "execute_result"
    }
   ],
   "source": [
    "# RUN verovio pred8.json -o pred8.svg --footer none --adjust-page-height IN TERMINAL\n",
    "# RUN rsvg-convert pred8.svg > pred8.png IN TERMINAL\n",
    "Image.open('/home/ibukey/primus/pred8.png')"
   ]
  },
  {
   "cell_type": "code",
   "execution_count": 104,
   "metadata": {},
   "outputs": [
    {
     "data": {
      "image/png": "[encoded data removed]",
      "text/plain": [
       "<PIL.PngImagePlugin.PngImageFile image mode=RGBA size=2100x280 at 0x7F94DC066F10>"
      ]
     },
     "execution_count": 104,
     "metadata": {},
     "output_type": "execute_result"
    }
   ],
   "source": [
    "Image.open('/home/ibukey/primus/pred8.png')"
   ]
  },
  {
   "cell_type": "code",
   "execution_count": 83,
   "metadata": {},
   "outputs": [],
   "source": [
    "import json\n",
    "for i in range(2):\n",
    "    with open('/home/ibukey/ttmp/semantic-nonrhythmic-preds/5_4/pred_g2_em_{}.txt'.format(i), 'r') as f:\n",
    "        text = f.read()\n",
    "        text = pseudo_semantic_to_semantic(text)\n",
    "        convert_and_save(text, '/home/ibukey/ttmp/semantic-nonrhythmic-json/pred_g2_em_{}.json'.format(i))\n"
   ]
  },
  {
   "cell_type": "code",
   "execution_count": 84,
   "metadata": {},
   "outputs": [
    {
     "name": "stdout",
     "output_type": "stream",
     "text": [
      "Output written to /home/ibukey/ttmp/semantic-nonrhythmic-svg/pred_g2_em_0.svg.\n",
      "Output written to /home/ibukey/ttmp/semantic-nonrhythmic-svg/pred_g2_em_1.svg.\n",
      "The file '/home/ibukey/ttmp/semantic-nonrhythmic-json/pred_g2_em_2.json' could not be opened.\n",
      "The file '/home/ibukey/ttmp/semantic-nonrhythmic-json/pred_g2_em_3.json' could not be opened.\n"
     ]
    }
   ],
   "source": [
    "! for i in {0..3}; do verovio /home/ibukey/ttmp/semantic-nonrhythmic-json/pred_g2_em_$i.json -o /home/ibukey/ttmp/semantic-nonrhythmic-svg/pred_g2_em_$i.svg --footer none --adjust-page-height; done\n"
   ]
  },
  {
   "cell_type": "code",
   "execution_count": 85,
   "metadata": {},
   "outputs": [],
   "source": [
    "! for i in {0..1}; do rsvg-convert /home/ibukey/ttmp/semantic-nonrhythmic-svg/pred_g2_em_$i.svg > /home/ibukey/ttmp/semantic-nonrhythmic-png/pred_g2_em_$i.png; done\n"
   ]
  },
  {
   "cell_type": "code",
   "execution_count": 66,
   "metadata": {},
   "outputs": [
    {
     "data": {
      "image/png": "[encoded data removed]",
      "text/plain": [
       "<PIL.PngImagePlugin.PngImageFile image mode=RGBA size=2100x280 at 0x7F691F967B50>"
      ]
     },
     "execution_count": 66,
     "metadata": {},
     "output_type": "execute_result"
    }
   ],
   "source": [
    "Image.open('/home/ibukey/ttmp/semantic-model-5-png/pred_g2_bbm_1.png')"
   ]
  },
  {
   "cell_type": "code",
   "execution_count": null,
   "metadata": {},
   "outputs": [],
   "source": []
  }
 ],
 "metadata": {
  "kernelspec": {
   "display_name": "Python 3",
   "language": "python",
   "name": "python3"
  },
  "language_info": {
   "codemirror_mode": {
    "name": "ipython",
    "version": 3
   },
   "file_extension": ".py",
   "mimetype": "text/x-python",
   "name": "python",
   "nbconvert_exporter": "python",
   "pygments_lexer": "ipython3",
   "version": "3.7.6"
  }
 },
 "nbformat": 4,
 "nbformat_minor": 5
}
