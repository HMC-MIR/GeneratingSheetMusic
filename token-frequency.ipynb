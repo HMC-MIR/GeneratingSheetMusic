{
 "cells": [
  {
   "cell_type": "code",
   "execution_count": 2,
   "id": "0a0da628",
   "metadata": {},
   "outputs": [],
   "source": [
    "import os\n",
    "from pathlib import Path\n",
    "from PIL import Image\n",
    "import numpy as np\n",
    "from tqdm import tqdm\n",
    "import seaborn as sns\n",
    "import matplotlib.pyplot as plt\n",
    "from matplotlib.pyplot import figure"
   ]
  },
  {
   "cell_type": "code",
   "execution_count": 3,
   "id": "f0d4e9e1",
   "metadata": {},
   "outputs": [],
   "source": [
    "PRIMUS_TXT_FILES = Path('/home/macosta/ttmp/primus-data/primus-semantic/semantic-cleaned-v2/')"
   ]
  },
  {
   "cell_type": "code",
   "execution_count": 4,
   "id": "241d677d",
   "metadata": {},
   "outputs": [],
   "source": [
    "word_dict = {}"
   ]
  },
  {
   "cell_type": "code",
   "execution_count": 11,
   "id": "81bf3227",
   "metadata": {},
   "outputs": [
    {
     "name": "stderr",
     "output_type": "stream",
     "text": [
      "100%|██████████████████████████████████| 87678/87678 [00:03<00:00, 26191.39it/s]\n"
     ]
    }
   ],
   "source": [
    "for filepath in tqdm(os.listdir(PRIMUS_TXT_FILES)):\n",
    "    with open(PRIMUS_TXT_FILES / filepath, 'r') as f:\n",
    "        text = f.read()\n",
    "    words = text.split()\n",
    "    for word in words:\n",
    "        if word not in word_dict:\n",
    "            word_dict[word] = 1\n",
    "        else:\n",
    "            word_dict[word] += 1"
   ]
  },
  {
   "cell_type": "code",
   "execution_count": 12,
   "id": "076e6a4d",
   "metadata": {},
   "outputs": [],
   "source": [
    "word_dict_sorted = sorted(word_dict.items(), key=lambda x: -x[1])"
   ]
  },
  {
   "cell_type": "code",
   "execution_count": 13,
   "id": "a6e9329a",
   "metadata": {},
   "outputs": [
    {
     "data": {
      "text/plain": [
       "279"
      ]
     },
     "execution_count": 13,
     "metadata": {},
     "output_type": "execute_result"
    }
   ],
   "source": [
    "len(word_dict_sorted)"
   ]
  },
  {
   "cell_type": "code",
   "execution_count": 7,
   "id": "ecffaee6",
   "metadata": {},
   "outputs": [],
   "source": [
    "val = np.arange(len(word_dict_sorted))\n",
    "weight = [pair[1] for pair in word_dict_sorted]"
   ]
  },
  {
   "cell_type": "code",
   "execution_count": 8,
   "id": "194a2461",
   "metadata": {},
   "outputs": [
    {
     "data": {
      "image/png": "[encoded data removed]",
      "text/plain": [
       "<Figure size 640x480 with 1 Axes>"
      ]
     },
     "metadata": {
      "needs_background": "light"
     },
     "output_type": "display_data"
    }
   ],
   "source": [
    "figure(figsize=(8, 6), dpi=80)\n",
    "plt.hist(val, weights=weight, log=True, bins=200)\n",
    "plt.xlabel('nth most frequent word')\n",
    "plt.ylabel('frequency')\n",
    "plt.show()"
   ]
  },
  {
   "cell_type": "code",
   "execution_count": 32,
   "id": "b8d292ac",
   "metadata": {},
   "outputs": [
    {
     "data": {
      "image/png": "[encoded data removed]",
      "text/plain": [
       "<PIL.Image.Image image mode=L size=87x175 at 0x7F382F883310>"
      ]
     },
     "metadata": {},
     "output_type": "display_data"
    }
   ],
   "source": [
    "token = word_dict_sorted[-1][0]\n",
    "cols = token.split('_')\n",
    "arr = np.zeros((len(cols[0]), len(cols)))\n",
    "for i, col in enumerate(cols):\n",
    "    arr[:,i] = [1-int(x) for x in col]\n",
    "Image.fromarray(arr * 255).show()"
   ]
  }
 ],
 "metadata": {
  "kernelspec": {
   "display_name": "Python 3 (ipykernel)",
   "language": "python",
   "name": "python3"
  },
  "language_info": {
   "codemirror_mode": {
    "name": "ipython",
    "version": 3
   },
   "file_extension": ".py",
   "mimetype": "text/x-python",
   "name": "python",
   "nbconvert_exporter": "python",
   "pygments_lexer": "ipython3",
   "version": "3.7.11"
  }
 },
 "nbformat": 4,
 "nbformat_minor": 5
}
