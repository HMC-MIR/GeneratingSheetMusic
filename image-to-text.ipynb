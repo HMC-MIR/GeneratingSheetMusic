{
 "cells": [
  {
   "cell_type": "code",
   "execution_count": 1,
   "id": "87390ad5",
   "metadata": {},
   "outputs": [],
   "source": [
    "from pathlib import Path\n",
    "from PIL import Image\n",
    "import os\n",
    "import numpy as np\n",
    "from tqdm import tqdm"
   ]
  },
  {
   "cell_type": "code",
   "execution_count": 2,
   "id": "3bcf8a29",
   "metadata": {},
   "outputs": [],
   "source": [
    "PROCESSED_DIR = Path('/home/macosta/ttmp/primus-processed/')\n",
    "SAVEPATH = Path('/home/macosta/ttmp/primus-txt-blocks')\n",
    "SAVEPATH.mkdir(exist_ok=True)"
   ]
  },
  {
   "cell_type": "code",
   "execution_count": 7,
   "id": "0b6a60aa",
   "metadata": {},
   "outputs": [
    {
     "name": "stderr",
     "output_type": "stream",
     "text": [
      "\r",
      "  0%|                                                 | 0/87678 [00:00<?, ?it/s]"
     ]
    },
    {
     "data": {
      "image/png": "[encoded data removed]",
      "text/plain": [
       "<PIL.PngImagePlugin.PngImageFile image mode=1 size=916x95 at 0x7F4CD58E89D0>"
      ]
     },
     "metadata": {},
     "output_type": "display_data"
    },
    {
     "name": "stderr",
     "output_type": "stream",
     "text": [
      "\r",
      "  0%|                                                 | 0/87678 [00:00<?, ?it/s]"
     ]
    },
    {
     "name": "stdout",
     "output_type": "stream",
     "text": [
      "[[1 0 0 0 0 0 0 0 0 0 1 1 1 1 1]\n",
      " [1 1 0 0 0 0 0 0 0 0 0 1 1 1 1]\n",
      " [1 1 0 0 0 0 0 0 0 0 0 1 1 1 1]\n",
      " [1 1 0 0 0 0 0 0 0 0 0 0 1 1 1]\n",
      " [1 1 1 0 0 0 0 0 0 0 0 0 0 1 1]\n",
      " [1 1 1 1 0 0 0 0 0 0 0 0 0 0 1]\n",
      " [1 1 1 1 0 0 0 0 0 0 0 0 0 0 0]\n",
      " [1 1 1 1 1 0 0 0 0 0 0 0 0 0 0]\n",
      " [0 1 1 1 1 1 0 0 0 0 0 0 0 0 0]\n",
      " [0 0 1 1 1 1 1 1 0 0 0 0 0 0 0]\n",
      " [0 0 0 1 1 1 1 1 1 0 0 0 0 0 0]\n",
      " [0 0 0 0 0 1 1 1 1 1 1 0 0 0 0]\n",
      " [0 0 0 0 0 0 1 1 1 1 1 1 1 1 0]\n",
      " [0 0 0 0 0 0 0 0 1 1 1 1 1 1 1]\n",
      " [0 0 0 0 0 0 0 0 0 0 0 1 1 1 1]]\n"
     ]
    },
    {
     "name": "stderr",
     "output_type": "stream",
     "text": [
      "\n"
     ]
    },
    {
     "ename": "Exception",
     "evalue": "",
     "output_type": "error",
     "traceback": [
      "\u001b[0;31m---------------------------------------------------------------------------\u001b[0m",
      "\u001b[0;31mException\u001b[0m                                 Traceback (most recent call last)",
      "\u001b[0;32m/tmp/ipykernel_1799765/3896937188.py\u001b[0m in \u001b[0;36m<module>\u001b[0;34m\u001b[0m\n\u001b[1;32m     13\u001b[0m             \u001b[0;32mif\u001b[0m \u001b[0mx\u001b[0m \u001b[0;34m==\u001b[0m \u001b[0;36m8\u001b[0m\u001b[0;34m:\u001b[0m\u001b[0;34m\u001b[0m\u001b[0;34m\u001b[0m\u001b[0m\n\u001b[1;32m     14\u001b[0m                 \u001b[0mprint\u001b[0m\u001b[0;34m(\u001b[0m\u001b[0mblock\u001b[0m\u001b[0;34m)\u001b[0m\u001b[0;34m\u001b[0m\u001b[0;34m\u001b[0m\u001b[0m\n\u001b[0;32m---> 15\u001b[0;31m                 \u001b[0;32mraise\u001b[0m \u001b[0mException\u001b[0m\u001b[0;34m(\u001b[0m\u001b[0;34m)\u001b[0m\u001b[0;34m\u001b[0m\u001b[0;34m\u001b[0m\u001b[0m\n\u001b[0m\u001b[1;32m     16\u001b[0m             \u001b[0mflattened\u001b[0m \u001b[0;34m=\u001b[0m \u001b[0mblock\u001b[0m\u001b[0;34m.\u001b[0m\u001b[0mflatten\u001b[0m\u001b[0;34m(\u001b[0m\u001b[0;34m)\u001b[0m\u001b[0;34m\u001b[0m\u001b[0;34m\u001b[0m\u001b[0m\n\u001b[1;32m     17\u001b[0m             \u001b[0mstring\u001b[0m \u001b[0;34m=\u001b[0m \u001b[0;34m''\u001b[0m\u001b[0;34m.\u001b[0m\u001b[0mjoin\u001b[0m\u001b[0;34m(\u001b[0m\u001b[0;34m[\u001b[0m\u001b[0mstr\u001b[0m\u001b[0;34m(\u001b[0m\u001b[0mx\u001b[0m\u001b[0;34m)\u001b[0m \u001b[0;32mfor\u001b[0m \u001b[0mx\u001b[0m \u001b[0;32min\u001b[0m \u001b[0mflattened\u001b[0m\u001b[0;34m]\u001b[0m\u001b[0;34m)\u001b[0m\u001b[0;34m\u001b[0m\u001b[0;34m\u001b[0m\u001b[0m\n",
      "\u001b[0;31mException\u001b[0m: "
     ]
    }
   ],
   "source": [
    "for file in tqdm(os.listdir(PROCESSED_DIR)):\n",
    "    x = 0\n",
    "    filepath = PROCESSED_DIR / file\n",
    "    savepath = SAVEPATH / f\"{filepath.name[:-4]}.txt\"\n",
    "#     writefile = open(savepath, \"w\")\n",
    "    image = (1 - np.array(Image.open(filepath), dtype=np.uint8))\n",
    "    Image.open(filepath).show()\n",
    "    full_text = ''\n",
    "    for i in range(0, image.shape[1] - 15, 15):\n",
    "        for j in range(13, 13 + 18 * 4, 18):\n",
    "            block = image[j:j+15, i:i+15]\n",
    "            x += 1\n",
    "            if x == 8:\n",
    "                print(block)\n",
    "                raise Exception()\n",
    "            flattened = block.flatten()\n",
    "            string = ''.join([str(x) for x in flattened])\n",
    "            full_text += f\"{string} \"\n",
    "    full_text = full_text.strip()\n",
    "#     writefile.write(full_text)\n",
    "    writefile.close()"
   ]
  }
 ],
 "metadata": {
  "kernelspec": {
   "display_name": "Python 3 (ipykernel)",
   "language": "python",
   "name": "python3"
  },
  "language_info": {
   "codemirror_mode": {
    "name": "ipython",
    "version": 3
   },
   "file_extension": ".py",
   "mimetype": "text/x-python",
   "name": "python",
   "nbconvert_exporter": "python",
   "pygments_lexer": "ipython3",
   "version": "3.7.11"
  }
 },
 "nbformat": 4,
 "nbformat_minor": 5
}
