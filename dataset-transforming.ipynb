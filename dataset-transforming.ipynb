{
 "cells": [
  {
   "cell_type": "code",
   "execution_count": 1,
   "id": "e37ca434",
   "metadata": {},
   "outputs": [],
   "source": [
    "import re\n",
    "from pathlib import Path\n",
    "import os\n",
    "from tqdm import tqdm\n",
    "from PIL import Image\n",
    "import numpy as np"
   ]
  },
  {
   "cell_type": "code",
   "execution_count": 2,
   "id": "b5fe18cd",
   "metadata": {},
   "outputs": [],
   "source": [
    "TXT_DIR = Path('/home/macosta/ttmp/primus-data/leipzig-filtered/leipzig-txt/')\n",
    "SAVEDIR = Path('/home/macosta/ttmp/primus-data/leipzig-filtered/leipzig-delim-7/')\n",
    "SAVEDIR.mkdir(exist_ok=True)"
   ]
  },
  {
   "cell_type": "code",
   "execution_count": 3,
   "id": "0a29c40c",
   "metadata": {},
   "outputs": [],
   "source": [
    "class StafflineTokenizer():\n",
    "    def __init__(self, stafflines, n_rep=1):\n",
    "        stafflines_w_spaces = [f\"{x} \" for x in stafflines]\n",
    "        self.staff_pattern = re.compile(f\"({'|'.join(stafflines_w_spaces)})\" + \"{\" + str(n_rep) + \",}\")\n",
    "    def __call__(self, items):\n",
    "        return (self.tokenize_item(x) for x in items)\n",
    "    def tokenize_item(self, item):\n",
    "        if item[-1] != ' ':\n",
    "            item += ' '\n",
    "        staffline_stripped = self.staff_pattern.sub(\"& \", item)\n",
    "        tokens = staffline_stripped.split(\"& \")\n",
    "        tokens = [t.strip().replace(' ', '_') for t in tokens if t]\n",
    "        return ' '.join(tokens)"
   ]
  },
  {
   "cell_type": "code",
   "execution_count": 4,
   "id": "33b1be45",
   "metadata": {},
   "outputs": [],
   "source": [
    "STAFFLINE_A = \"0000000000000000000000000000000000000000000000000011100000000000000011100000000000000011100000000000000011100000000000000011100000000000000000000000000000000000000000000000000\"\n",
    "STAFFLINE_B = \"0000000000000000000000000000000000000000000000000001000000000000000001000000000000000001000000000000000001000000000000000001000000000000000000000000000000000000000000000000000\"\n",
    "STAFFLINES = [STAFFLINE_A, STAFFLINE_B]"
   ]
  },
  {
   "cell_type": "code",
   "execution_count": 5,
   "id": "43e1aa35",
   "metadata": {},
   "outputs": [],
   "source": [
    "st = StafflineTokenizer(STAFFLINES, n_rep=7)"
   ]
  },
  {
   "cell_type": "code",
   "execution_count": 6,
   "id": "9603ebe2",
   "metadata": {},
   "outputs": [],
   "source": [
    "def show_whitespaced(txt):\n",
    "    cols = txt.replace('_', ' ').split(' ')\n",
    "    arr = [[int(x) for x in col] for col in cols]\n",
    "    arr = (1 - np.array(arr, dtype=np.uint8)) * 255\n",
    "    Image.fromarray(arr.T).show()"
   ]
  },
  {
   "cell_type": "code",
   "execution_count": 8,
   "id": "2959f6b0",
   "metadata": {},
   "outputs": [
    {
     "name": "stderr",
     "output_type": "stream",
     "text": [
      "100%|█████████████████████████████████████████████████████████████████████████████████████████████████████████████████| 29155/29155 [04:23<00:00, 110.62it/s]\n"
     ]
    }
   ],
   "source": [
    "for file in tqdm(os.listdir(TXT_DIR)):\n",
    "    with open(TXT_DIR / file, \"r\") as f:\n",
    "        contents = f.read()\n",
    "    tokenized = st.tokenize_item(contents)\n",
    "    savepath = SAVEDIR / file\n",
    "    with open(savepath, \"w\") as f:\n",
    "        f.write(tokenized)"
   ]
  }
 ],
 "metadata": {
  "kernelspec": {
   "display_name": "Python 3 (ipykernel)",
   "language": "python",
   "name": "python3"
  },
  "language_info": {
   "codemirror_mode": {
    "name": "ipython",
    "version": 3
   },
   "file_extension": ".py",
   "mimetype": "text/x-python",
   "name": "python",
   "nbconvert_exporter": "python",
   "pygments_lexer": "ipython3",
   "version": "3.7.11"
  }
 },
 "nbformat": 4,
 "nbformat_minor": 5
}
