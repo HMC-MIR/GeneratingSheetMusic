{
 "cells": [
  {
   "cell_type": "code",
   "execution_count": 3,
   "id": "f16b36dd",
   "metadata": {},
   "outputs": [],
   "source": [
    "import re"
   ]
  },
  {
   "cell_type": "code",
   "execution_count": 4,
   "id": "682af68e",
   "metadata": {},
   "outputs": [],
   "source": [
    "example_agnostic_raw = 'clef.G-L2       accidental.flat-L3      accidental.flat-S4      accidental.flat-S2      digit.3-L4      digit.4-L2      note.quarter-S6 note.beamedRight1-S4    note.beamedBoth1-S6     note.beamedBoth1-L7     note.beamedLeft1-S6     barline-L1      note.beamedRight1-L6    note.beamedLeft1-L6     rest.sixteenth-L3       note.beamedRight2-L6    note.beamedBoth2-S5     note.beamedLeft2-L6     note.beamedRight2-S6    note.beamedBoth2-L6     note.beamedBoth2-S5     note.beamedLeft2-L6     barline-L1'"
   ]
  },
  {
   "cell_type": "code",
   "execution_count": 25,
   "id": "9519a1ca",
   "metadata": {},
   "outputs": [],
   "source": [
    "notes = 'ABCDEFG'\n",
    "note_to_index = {k:v for v,k in enumerate(notes)}\n",
    "index_to_note = {k:v for k,v in enumerate(notes)}"
   ]
  },
  {
   "cell_type": "code",
   "execution_count": 26,
   "id": "8d312e7e",
   "metadata": {},
   "outputs": [],
   "source": [
    "middle_c_to_first_line = {\n",
    "    'G-2': 2,\n",
    "    'C-3': -4,\n",
    "}"
   ]
  },
  {
   "cell_type": "code",
   "execution_count": 12,
   "id": "bfb93576",
   "metadata": {},
   "outputs": [],
   "source": [
    "def location_to_absolute(loc):\n",
    "    one_if_space = int(loc[0] == 'S')\n",
    "    number = int(loc[1])\n",
    "    return (number - 1) * 2 + one_if_space"
   ]
  },
  {
   "cell_type": "code",
   "execution_count": null,
   "id": "cc774412",
   "metadata": {},
   "outputs": [],
   "source": [
    "def location_to_note(loc, )"
   ]
  },
  {
   "cell_type": "code",
   "execution_count": 22,
   "id": "b8680961",
   "metadata": {},
   "outputs": [
    {
     "data": {
      "text/plain": [
       "8"
      ]
     },
     "execution_count": 22,
     "metadata": {},
     "output_type": "execute_result"
    }
   ],
   "source": [
    "location_to_absolute('L5')"
   ]
  },
  {
   "cell_type": "code",
   "execution_count": 7,
   "id": "d511f15d",
   "metadata": {},
   "outputs": [],
   "source": [
    "example = re.sub(' +', ' ', example_agnostic_raw).split()"
   ]
  },
  {
   "cell_type": "code",
   "execution_count": 28,
   "id": "5e665d2e",
   "metadata": {},
   "outputs": [
    {
     "data": {
      "text/plain": [
       "['clef.G-L2',\n",
       " 'accidental.flat-L3',\n",
       " 'accidental.flat-S4',\n",
       " 'accidental.flat-S2',\n",
       " 'digit.3-L4',\n",
       " 'digit.4-L2',\n",
       " 'note.quarter-S6',\n",
       " 'note.beamedRight1-S4',\n",
       " 'note.beamedBoth1-S6',\n",
       " 'note.beamedBoth1-L7',\n",
       " 'note.beamedLeft1-S6',\n",
       " 'barline-L1',\n",
       " 'note.beamedRight1-L6',\n",
       " 'note.beamedLeft1-L6',\n",
       " 'rest.sixteenth-L3',\n",
       " 'note.beamedRight2-L6',\n",
       " 'note.beamedBoth2-S5',\n",
       " 'note.beamedLeft2-L6',\n",
       " 'note.beamedRight2-S6',\n",
       " 'note.beamedBoth2-L6',\n",
       " 'note.beamedBoth2-S5',\n",
       " 'note.beamedLeft2-L6',\n",
       " 'barline-L1']"
      ]
     },
     "execution_count": 28,
     "metadata": {},
     "output_type": "execute_result"
    }
   ],
   "source": [
    "example"
   ]
  },
  {
   "cell_type": "code",
   "execution_count": 10,
   "id": "6ebd8b0b",
   "metadata": {},
   "outputs": [
    {
     "name": "stdout",
     "output_type": "stream",
     "text": [
      "G-2\n"
     ]
    }
   ],
   "source": [
    "clef = example[0].split('.')[-1]\n",
    "clef = clef[:2] + clef[-1]\n",
    "print(clef)"
   ]
  },
  {
   "cell_type": "code",
   "execution_count": 31,
   "id": "4a4d9439",
   "metadata": {},
   "outputs": [
    {
     "data": {
      "text/plain": [
       "{'clef': 'G-2', 'keysig': '', 'timesig': '', 'data': ''}"
      ]
     },
     "execution_count": 31,
     "metadata": {},
     "output_type": "execute_result"
    }
   ],
   "source": [
    "clef = ''\n",
    "keysig = ''\n",
    "timesig = ''\n",
    "data = ''\n",
    "passed_key_sig = False\n",
    "for i, symbol in enumerate(example):\n",
    "    symbol, location = symbol.split('-')\n",
    "    absolute_loc = location_to_absolute(location)\n",
    "    \n",
    "    if '.' in symbol:\n",
    "        symbol, detail = symbol.split('.')\n",
    "        if symbol == 'clef':\n",
    "            clef = detail + '-' + location[-1]\n",
    "        elif symbol == 'accidental' and not passed_key_sig:\n",
    "            \n",
    "\n",
    "obj = {\n",
    "    \"clef\": clef,\n",
    "    \"keysig\": keysig,\n",
    "    \"timesig\": timesig,\n",
    "    \"data\": data\n",
    "}\n",
    "obj"
   ]
  }
 ],
 "metadata": {
  "kernelspec": {
   "display_name": "Python 3 (ipykernel)",
   "language": "python",
   "name": "python3"
  },
  "language_info": {
   "codemirror_mode": {
    "name": "ipython",
    "version": 3
   },
   "file_extension": ".py",
   "mimetype": "text/x-python",
   "name": "python",
   "nbconvert_exporter": "python",
   "pygments_lexer": "ipython3",
   "version": "3.7.11"
  }
 },
 "nbformat": 4,
 "nbformat_minor": 5
}
